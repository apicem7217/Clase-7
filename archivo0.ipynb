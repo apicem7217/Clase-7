{
  "nbformat": 4,
  "nbformat_minor": 0,
  "metadata": {
    "colab": {
      "provenance": [],
      "authorship_tag": "ABX9TyM9GwLpfR8QJLWra6k7BYbw",
      "include_colab_link": true
    },
    "kernelspec": {
      "name": "python3",
      "display_name": "Python 3"
    },
    "language_info": {
      "name": "python"
    }
  },
  "cells": [
    {
      "cell_type": "markdown",
      "metadata": {
        "id": "view-in-github",
        "colab_type": "text"
      },
      "source": [
        "<a href=\"https://colab.research.google.com/github/apicem7217/Clase-7/blob/Phyton/archivo0.ipynb\" target=\"_parent\"><img src=\"https://colab.research.google.com/assets/colab-badge.svg\" alt=\"Open In Colab\"/></a>"
      ]
    },
    {
      "cell_type": "code",
      "execution_count": 1,
      "metadata": {
        "colab": {
          "base_uri": "https://localhost:8080/",
          "height": 130
        },
        "id": "P7oBsS65Jkij",
        "outputId": "14e35a84-a9c1-4d42-faae-778b233efa0d"
      },
      "outputs": [
        {
          "output_type": "error",
          "ename": "SyntaxError",
          "evalue": "ignored",
          "traceback": [
            "\u001b[0;36m  File \u001b[0;32m\"<ipython-input-1-b4f4434fe33f>\"\u001b[0;36m, line \u001b[0;32m2\u001b[0m\n\u001b[0;31m    file.write(('with open(\"entradas.txt\", \"w\") as file:\u001b[0m\n\u001b[0m                ^\u001b[0m\n\u001b[0;31mSyntaxError\u001b[0m\u001b[0;31m:\u001b[0m unterminated string literal (detected at line 2)\n"
          ]
        }
      ],
      "source": [
        "with open(\"words.txt\", \"w\") as file:\n",
        "  file.write(('with open(\"entradas.txt\", \"w\") as file:\n",
        "  file.write(('Hola, esta es la linea 1\\nEsta es la linea 2.\\nY aqypi la líena 3\\n'))\n",
        "  file.write(str(1))\n",
        "  file.write(\"\\n\")\n",
        "  file.write(str([1, 20, 10]))\n",
        "  # file.close() En cuanto se termina ejecutar la línea\n",
        "  # anterior se aplica el close()\n"
      ]
    },
    {
      "cell_type": "code",
      "source": [],
      "metadata": {
        "id": "NCZhB5pzKVUQ"
      },
      "execution_count": null,
      "outputs": []
    },
    {
      "cell_type": "markdown",
      "source": [
        "# Nueva sección"
      ],
      "metadata": {
        "id": "jf7ZN6nTKFW5"
      }
    },
    {
      "cell_type": "markdown",
      "source": [
        "# Nueva sección"
      ],
      "metadata": {
        "id": "qsgfkQFNKFY9"
      }
    }
  ]
}