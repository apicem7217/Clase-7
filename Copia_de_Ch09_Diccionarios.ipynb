{
  "nbformat": 4,
  "nbformat_minor": 0,
  "metadata": {
    "colab": {
      "provenance": [],
      "include_colab_link": true
    },
    "kernelspec": {
      "name": "python3",
      "display_name": "Python 3"
    },
    "language_info": {
      "name": "python"
    }
  },
  "cells": [
    {
      "cell_type": "markdown",
      "metadata": {
        "id": "view-in-github",
        "colab_type": "text"
      },
      "source": [
        "<a href=\"https://colab.research.google.com/github/apicem7217/Clase-7/blob/Phyton/Copia_de_Ch09_Diccionarios.ipynb\" target=\"_parent\"><img src=\"https://colab.research.google.com/assets/colab-badge.svg\" alt=\"Open In Colab\"/></a>"
      ]
    },
    {
      "cell_type": "markdown",
      "source": [
        "# Diccionarios\n",
        "\n",
        "- Otro tipo dato/contenedor compuesto, similar a las listas y tuplas.\n",
        "- Contenedor de datos muy útil, compuesto por elementos: **key** (llave) y **value** (valor almacenado).\n"
      ],
      "metadata": {
        "id": "H91WBBX6sYPj"
      }
    },
    {
      "cell_type": "code",
      "execution_count": null,
      "metadata": {
        "id": "puR09GcesBcl"
      },
      "outputs": [],
      "source": [
        "mi_primer_diccionario = {}"
      ]
    },
    {
      "cell_type": "code",
      "source": [
        "type(mi_primer_diccionario)"
      ],
      "metadata": {
        "colab": {
          "base_uri": "https://localhost:8080/"
        },
        "id": "p9W2A9LCs26A",
        "outputId": "cbc7ec85-70ab-4def-c783-473944d355da"
      },
      "execution_count": null,
      "outputs": [
        {
          "output_type": "execute_result",
          "data": {
            "text/plain": [
              "dict"
            ]
          },
          "metadata": {},
          "execution_count": 2
        }
      ]
    },
    {
      "cell_type": "markdown",
      "source": [
        "## Creando diccionarios"
      ],
      "metadata": {
        "id": "ThWy72_ns-JL"
      }
    },
    {
      "cell_type": "code",
      "source": [
        "# ingles, espanol\n",
        "ing_esp_dict = {}"
      ],
      "metadata": {
        "id": "gTdQHstmtAMv"
      },
      "execution_count": null,
      "outputs": []
    },
    {
      "cell_type": "code",
      "source": [
        "print(ing_esp_dict)"
      ],
      "metadata": {
        "colab": {
          "base_uri": "https://localhost:8080/"
        },
        "id": "ofvh0RiKtJkg",
        "outputId": "c8c1b8e0-ded8-40ec-f0d2-6735b33cb29a"
      },
      "execution_count": null,
      "outputs": [
        {
          "output_type": "stream",
          "name": "stdout",
          "text": [
            "{'one': 'uno', 'two': 'dos', 'three': 'tres', 4: 'cuatro', 'five': 5}\n"
          ]
        }
      ]
    },
    {
      "cell_type": "code",
      "source": [
        "ing_esp_dict[\"one\"] = \"uno\""
      ],
      "metadata": {
        "id": "WWFgM__ktN8P"
      },
      "execution_count": null,
      "outputs": []
    },
    {
      "cell_type": "code",
      "source": [
        "# Diccionarios son objetos mutables\n",
        "\n",
        "ing_esp_dict[\"two\"] = \"dos\"\n",
        "ing_esp_dict[\"three\"] = \"tres\"\n",
        "ing_esp_dict[4] = \"cuatro\"\n",
        "ing_esp_dict[\"five\"] = 5"
      ],
      "metadata": {
        "id": "PwbHCyjatcmY"
      },
      "execution_count": null,
      "outputs": []
    },
    {
      "cell_type": "markdown",
      "source": [
        "# Accendiendo a los valores\n"
      ],
      "metadata": {
        "id": "zdE8fR63uLGd"
      }
    },
    {
      "cell_type": "code",
      "source": [
        "ing_esp_dict[\"five\"]"
      ],
      "metadata": {
        "colab": {
          "base_uri": "https://localhost:8080/"
        },
        "id": "FAG02liKt6Cm",
        "outputId": "88f1abc0-3a37-4c27-a034-55805f1e8988"
      },
      "execution_count": null,
      "outputs": [
        {
          "output_type": "execute_result",
          "data": {
            "text/plain": [
              "5"
            ]
          },
          "metadata": {},
          "execution_count": 14
        }
      ]
    },
    {
      "cell_type": "markdown",
      "source": [
        "# Métodos"
      ],
      "metadata": {
        "id": "VRk5tYH6ucAh"
      }
    },
    {
      "cell_type": "code",
      "source": [
        "# help(dict)"
      ],
      "metadata": {
        "id": "YbC9B9cNuejw"
      },
      "execution_count": null,
      "outputs": []
    },
    {
      "cell_type": "code",
      "source": [
        "ing_esp_dict.keys()"
      ],
      "metadata": {
        "colab": {
          "base_uri": "https://localhost:8080/"
        },
        "id": "7aJs99A7uy5Z",
        "outputId": "f37fdfa1-a579-4b81-f688-157b56ea4e36"
      },
      "execution_count": null,
      "outputs": [
        {
          "output_type": "execute_result",
          "data": {
            "text/plain": [
              "dict_keys(['one', 'two', 'three', 4, 'five'])"
            ]
          },
          "metadata": {},
          "execution_count": 19
        }
      ]
    },
    {
      "cell_type": "code",
      "source": [
        "type(ing_esp_dict.keys())"
      ],
      "metadata": {
        "colab": {
          "base_uri": "https://localhost:8080/"
        },
        "id": "vsPIbQoJulqG",
        "outputId": "7e642a33-ebd3-48e3-83fc-2e0e8da84e46"
      },
      "execution_count": null,
      "outputs": [
        {
          "output_type": "execute_result",
          "data": {
            "text/plain": [
              "dict_keys"
            ]
          },
          "metadata": {},
          "execution_count": 18
        }
      ]
    },
    {
      "cell_type": "code",
      "source": [
        "for key in ing_esp_dict.keys():\n",
        "  print(f\"Key = {key}, Value = {ing_esp_dict[key]}\")"
      ],
      "metadata": {
        "colab": {
          "base_uri": "https://localhost:8080/"
        },
        "id": "fDx0-1UZu3Zz",
        "outputId": "f0fda756-dbc5-4e28-b0da-56a68f0067e6"
      },
      "execution_count": null,
      "outputs": [
        {
          "output_type": "stream",
          "name": "stdout",
          "text": [
            "Key = one, Value = uno\n",
            "Key = two, Value = dos\n",
            "Key = three, Value = tres\n",
            "Key = 4, Value = cuatro\n",
            "Key = five, Value = 5\n"
          ]
        }
      ]
    },
    {
      "cell_type": "code",
      "source": [
        "ing_esp_dict.values()"
      ],
      "metadata": {
        "colab": {
          "base_uri": "https://localhost:8080/"
        },
        "id": "Z_1cjPsKvl81",
        "outputId": "9fc9cebb-b407-4f96-d54b-ebcb45a2cdf1"
      },
      "execution_count": null,
      "outputs": [
        {
          "output_type": "execute_result",
          "data": {
            "text/plain": [
              "dict_values(['uno', 'dos', 'tres', 'cuatro', 5])"
            ]
          },
          "metadata": {},
          "execution_count": 21
        }
      ]
    },
    {
      "cell_type": "code",
      "source": [
        "for value in ing_esp_dict.values():\n",
        "  print(f\"Value = {value}\")"
      ],
      "metadata": {
        "colab": {
          "base_uri": "https://localhost:8080/"
        },
        "id": "igL26m_Kvrnh",
        "outputId": "6dd5c3ac-5ace-4f22-cecc-0dabdb825cad"
      },
      "execution_count": null,
      "outputs": [
        {
          "output_type": "stream",
          "name": "stdout",
          "text": [
            "Value = uno\n",
            "Value = dos\n",
            "Value = tres\n",
            "Value = cuatro\n",
            "Value = 5\n"
          ]
        }
      ]
    },
    {
      "cell_type": "code",
      "source": [
        "ing_esp_dict.items()"
      ],
      "metadata": {
        "colab": {
          "base_uri": "https://localhost:8080/"
        },
        "id": "tqeBQWv_v1mV",
        "outputId": "dff4971b-bccb-4210-82e8-248e1c23cc3a"
      },
      "execution_count": null,
      "outputs": [
        {
          "output_type": "execute_result",
          "data": {
            "text/plain": [
              "dict_items([('one', 'uno'), ('two', 'dos'), ('three', 'tres'), (4, 'cuatro'), ('five', 5)])"
            ]
          },
          "metadata": {},
          "execution_count": 23
        }
      ]
    },
    {
      "cell_type": "code",
      "source": [
        "for k, v in ing_esp_dict.items():\n",
        "  print(f\"Key = {k}, Value = {v}\")"
      ],
      "metadata": {
        "colab": {
          "base_uri": "https://localhost:8080/"
        },
        "id": "WhAHg0-KwEc8",
        "outputId": "8d446c69-0c4b-4c96-bcc9-c5a4ad052d5d"
      },
      "execution_count": null,
      "outputs": [
        {
          "output_type": "stream",
          "name": "stdout",
          "text": [
            "Key = one, Value = uno\n",
            "Key = two, Value = dos\n",
            "Key = three, Value = tres\n",
            "Key = 4, Value = cuatro\n",
            "Key = five, Value = 5\n"
          ]
        }
      ]
    },
    {
      "cell_type": "markdown",
      "source": [
        "# Revisando llaves con operadores"
      ],
      "metadata": {
        "id": "k-QjkTKVwiEM"
      }
    },
    {
      "cell_type": "code",
      "source": [
        "\"one\" in ing_esp_dict"
      ],
      "metadata": {
        "colab": {
          "base_uri": "https://localhost:8080/"
        },
        "id": "_qyFsZZtwknC",
        "outputId": "38e0c208-7981-429c-a8a8-b585ff604c31"
      },
      "execution_count": null,
      "outputs": [
        {
          "output_type": "execute_result",
          "data": {
            "text/plain": [
              "True"
            ]
          },
          "metadata": {},
          "execution_count": 26
        }
      ]
    },
    {
      "cell_type": "code",
      "source": [
        "\"four\" in ing_esp_dict"
      ],
      "metadata": {
        "colab": {
          "base_uri": "https://localhost:8080/"
        },
        "id": "Lh3IHsQYwpBs",
        "outputId": "442d63bf-7edf-4d76-fc73-804ca77119d7"
      },
      "execution_count": null,
      "outputs": [
        {
          "output_type": "execute_result",
          "data": {
            "text/plain": [
              "False"
            ]
          },
          "metadata": {},
          "execution_count": 27
        }
      ]
    }
  ]
}