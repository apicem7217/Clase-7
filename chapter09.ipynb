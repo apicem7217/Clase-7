{
  "nbformat": 4,
  "nbformat_minor": 0,
  "metadata": {
    "colab": {
      "provenance": [],
      "authorship_tag": "ABX9TyNcmOLvQ6xtZDucrvVybYv2",
      "include_colab_link": true
    },
    "kernelspec": {
      "name": "python3",
      "display_name": "Python 3"
    },
    "language_info": {
      "name": "python"
    }
  },
  "cells": [
    {
      "cell_type": "markdown",
      "metadata": {
        "id": "view-in-github",
        "colab_type": "text"
      },
      "source": [
        "<a href=\"https://colab.research.google.com/github/apicem7217/Clase-7/blob/Phyton/chapter09.ipynb\" target=\"_parent\"><img src=\"https://colab.research.google.com/assets/colab-badge.svg\" alt=\"Open In Colab\"/></a>"
      ]
    },
    {
      "cell_type": "code",
      "execution_count": null,
      "metadata": {
        "id": "Ac0-HZsNUd8T"
      },
      "outputs": [],
      "source": []
    },
    {
      "cell_type": "markdown",
      "source": [],
      "metadata": {
        "id": "Bim9Z53MUgt7"
      }
    },
    {
      "cell_type": "code",
      "source": [
        "# diccionaios\n",
        "# contenedor compuesto, similar a lista y tuplas\n",
        "# contenedor de datos util compuestos por 2 elementos\n",
        "# ***key***, **value*** valor almancenado\n",
        "# se usa llavea para diccionario\n",
        "\n",
        "mi_primer_diccionario = {}\n"
      ],
      "metadata": {
        "id": "Grfy1iIescOY"
      },
      "execution_count": null,
      "outputs": []
    },
    {
      "cell_type": "code",
      "source": [
        "type {mi_primer_diccionario}\n"
      ],
      "metadata": {
        "id": "44ef4kTHscU8"
      },
      "execution_count": null,
      "outputs": []
    },
    {
      "cell_type": "code",
      "source": [
        "# ingles, español\n",
        "ing_esp = {}\n"
      ],
      "metadata": {
        "id": "_8qFUPKWtEup"
      },
      "execution_count": 1,
      "outputs": []
    },
    {
      "cell_type": "code",
      "source": [
        "print(ing_esp)"
      ],
      "metadata": {
        "colab": {
          "base_uri": "https://localhost:8080/"
        },
        "id": "7wIGZ652tExj",
        "outputId": "09180845-b43d-4efd-8fbd-518390130c81"
      },
      "execution_count": 6,
      "outputs": [
        {
          "output_type": "stream",
          "name": "stdout",
          "text": [
            "{'one': 'uno'}\n"
          ]
        }
      ]
    },
    {
      "cell_type": "code",
      "source": [
        "ing_esp[\"one\"] = \"uno\"\n",
        "ing_esp[\"two\"] = \"dos\"\n",
        "ing_esp[\"three\"] = \"tres\"\n",
        "ing_esp[\"four\"] = \"cuatro\"\n"
      ],
      "metadata": {
        "id": "O7RJxPHVtbCZ"
      },
      "execution_count": 4,
      "outputs": []
    },
    {
      "cell_type": "code",
      "source": [
        "ing_esp[\"one\"]\n"
      ],
      "metadata": {
        "colab": {
          "base_uri": "https://localhost:8080/",
          "height": 35
        },
        "id": "8tggR6Lfta_s",
        "outputId": "35c5c8c4-5d7b-4435-9f62-247b1c1e2f21"
      },
      "execution_count": 10,
      "outputs": [
        {
          "output_type": "execute_result",
          "data": {
            "text/plain": [
              "'uno'"
            ],
            "application/vnd.google.colaboratory.intrinsic+json": {
              "type": "string"
            }
          },
          "metadata": {},
          "execution_count": 10
        }
      ]
    },
    {
      "cell_type": "markdown",
      "source": [
        "Accediendo a los valores"
      ],
      "metadata": {
        "id": "u3CH3Na3uPIc"
      }
    },
    {
      "cell_type": "code",
      "source": [
        "ing_esp[\"four\"]"
      ],
      "metadata": {
        "colab": {
          "base_uri": "https://localhost:8080/",
          "height": 165
        },
        "id": "_1UOT5iGuReJ",
        "outputId": "aae30369-647b-4efe-efdf-cfb4d7ec61d0"
      },
      "execution_count": 12,
      "outputs": [
        {
          "output_type": "error",
          "ename": "KeyError",
          "evalue": "ignored",
          "traceback": [
            "\u001b[0;31m---------------------------------------------------------------------------\u001b[0m",
            "\u001b[0;31mKeyError\u001b[0m                                  Traceback (most recent call last)",
            "\u001b[0;32m<ipython-input-12-c9970681fa44>\u001b[0m in \u001b[0;36m<cell line: 1>\u001b[0;34m()\u001b[0m\n\u001b[0;32m----> 1\u001b[0;31m \u001b[0ming_esp\u001b[0m\u001b[0;34m[\u001b[0m\u001b[0;34m\"four\"\u001b[0m\u001b[0;34m]\u001b[0m\u001b[0;34m\u001b[0m\u001b[0;34m\u001b[0m\u001b[0m\n\u001b[0m",
            "\u001b[0;31mKeyError\u001b[0m: 'four'"
          ]
        }
      ]
    },
    {
      "cell_type": "code",
      "source": [
        "help (dict)"
      ],
      "metadata": {
        "id": "N6UhpP9nugXr"
      },
      "execution_count": null,
      "outputs": []
    },
    {
      "cell_type": "code",
      "source": [
        "ing_esp.keys()"
      ],
      "metadata": {
        "colab": {
          "base_uri": "https://localhost:8080/"
        },
        "id": "Dl-M08cbum9O",
        "outputId": "6c901ffd-3078-4b9e-feee-fdb56323f42c"
      },
      "execution_count": 14,
      "outputs": [
        {
          "output_type": "execute_result",
          "data": {
            "text/plain": [
              "dict_keys(['one'])"
            ]
          },
          "metadata": {},
          "execution_count": 14
        }
      ]
    },
    {
      "cell_type": "code",
      "source": [
        "for i in ing_esp.key():\n",
        "  print(f\"\"Key = \"key\", value = {ing_esp[key]\"\" }"
      ],
      "metadata": {
        "colab": {
          "base_uri": "https://localhost:8080/",
          "height": 130
        },
        "id": "VmBRiAY5u5Pk",
        "outputId": "3994a725-eeb9-4d2a-a8ac-5511c184b8b1"
      },
      "execution_count": 19,
      "outputs": [
        {
          "output_type": "error",
          "ename": "SyntaxError",
          "evalue": "ignored",
          "traceback": [
            "\u001b[0;36m  File \u001b[0;32m\"<ipython-input-19-6e404b855941>\"\u001b[0;36m, line \u001b[0;32m2\u001b[0m\n\u001b[0;31m    print(f\"\"Key = \"key\", value = {ing_esp[key]\"\" }\u001b[0m\n\u001b[0m          ^\u001b[0m\n\u001b[0;31mSyntaxError\u001b[0m\u001b[0;31m:\u001b[0m invalid syntax. Perhaps you forgot a comma?\n"
          ]
        }
      ]
    },
    {
      "cell_type": "code",
      "source": [
        "ing_esp.values()\n"
      ],
      "metadata": {
        "colab": {
          "base_uri": "https://localhost:8080/"
        },
        "id": "dm3pHlpwvrpr",
        "outputId": "48d91171-7fc1-4d69-a371-79e5fe21ce89"
      },
      "execution_count": 17,
      "outputs": [
        {
          "output_type": "execute_result",
          "data": {
            "text/plain": [
              "dict_values(['uno'])"
            ]
          },
          "metadata": {},
          "execution_count": 17
        }
      ]
    },
    {
      "cell_type": "code",
      "source": [
        "ing_esp.items()\n"
      ],
      "metadata": {
        "colab": {
          "base_uri": "https://localhost:8080/"
        },
        "id": "a26oZ_hRwA1G",
        "outputId": "341ee776-5ff2-4a1f-e769-cd170711d5b9"
      },
      "execution_count": 20,
      "outputs": [
        {
          "output_type": "execute_result",
          "data": {
            "text/plain": [
              "dict_items([('one', 'uno')])"
            ]
          },
          "metadata": {},
          "execution_count": 20
        }
      ]
    },
    {
      "cell_type": "markdown",
      "source": [],
      "metadata": {
        "id": "oI1SGT4SwmvI"
      }
    },
    {
      "cell_type": "markdown",
      "source": [],
      "metadata": {
        "id": "mBJ05m_Wwmyi"
      }
    },
    {
      "cell_type": "markdown",
      "source": [
        "Revisando llaves con operadores"
      ],
      "metadata": {
        "id": "1coolkwqwm2V"
      }
    },
    {
      "cell_type": "code",
      "source": [],
      "metadata": {
        "id": "IN8f8dT8wqSA"
      },
      "execution_count": null,
      "outputs": []
    },
    {
      "cell_type": "code",
      "source": [],
      "metadata": {
        "id": "SvjGE1pUwqUc"
      },
      "execution_count": null,
      "outputs": []
    }
  ]
}