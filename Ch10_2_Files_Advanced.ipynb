{
  "cells": [
    {
      "cell_type": "markdown",
      "metadata": {
        "id": "view-in-github",
        "colab_type": "text"
      },
      "source": [
        "<a href=\"https://colab.research.google.com/github/apicem7217/Clase-7/blob/Phyton/Ch10_2_Files_Advanced.ipynb\" target=\"_parent\"><img src=\"https://colab.research.google.com/assets/colab-badge.svg\" alt=\"Open In Colab\"/></a>"
      ]
    },
    {
      "cell_type": "markdown",
      "metadata": {
        "id": "dNWi6GXzBfLg"
      },
      "source": [
        "# Temas avanzados sobre archivos"
      ]
    },
    {
      "cell_type": "markdown",
      "metadata": {
        "id": "i0ZgKYDSBfLh"
      },
      "source": [
        "## Trabajar con archivos HTML\n",
        "- obtener una página HTML de la web\n",
        "- analizar el archivo HTML con la biblioteca BeautifulSoup"
      ]
    },
    {
      "cell_type": "code",
      "execution_count": null,
      "metadata": {
        "colab": {
          "base_uri": "https://localhost:8080/"
        },
        "id": "a3VDOujQBfLh",
        "outputId": "2f1e8b55-ace0-4fe8-fede-cada7661540e"
      },
      "outputs": [
        {
          "output_type": "execute_result",
          "data": {
            "text/plain": [
              "('teaching.html', <http.client.HTTPMessage at 0x78b462e49a20>)"
            ]
          },
          "metadata": {},
          "execution_count": 1
        }
      ],
      "source": [
        "# obtener una página html\n",
        "import urllib.request\n",
        "url = 'https://rambasnet.github.io/teaching.html'\n",
        "localfile = 'teaching.html'\n",
        "urllib.request.urlretrieve(url, localfile)"
      ]
    },
    {
      "cell_type": "code",
      "execution_count": null,
      "metadata": {
        "colab": {
          "base_uri": "https://localhost:8080/"
        },
        "id": "pDj1CJ2cBfLi",
        "outputId": "c93989d3-840b-4aa3-b0fe-241344de9e20"
      },
      "outputs": [
        {
          "output_type": "stream",
          "name": "stdout",
          "text": [
            "Hay 543 palabras en el archivo.\n"
          ]
        }
      ],
      "source": [
        "with open(localfile) as f:\n",
        "    data = f.read()\n",
        "words = data.split(' ')\n",
        "print('Hay {0} palabras en el archivo.'.format(len(words)))"
      ]
    },
    {
      "cell_type": "markdown",
      "metadata": {
        "id": "G4yin5dDBfLi"
      },
      "source": [
        "## analizando HTML usando la biblioteca BeautifulSoup\n",
        "- instalar la biblioteca Beautifulsoup\n",
        "    $ pip install bs4\n",
        "- https://www.crummy.com/software/BeautifulSoup/bs4/doc/#\n",
        "- La alternativa es la biblioteca nltk (Natural Language Toolkit)\n",
        "- http://www.nltk.org/"
      ]
    },
    {
      "cell_type": "code",
      "execution_count": null,
      "metadata": {
        "colab": {
          "base_uri": "https://localhost:8080/"
        },
        "id": "XlAPykZWBfLi",
        "outputId": "70e56552-58c3-4ebb-cda0-f34a50c8f3c6"
      },
      "outputs": [
        {
          "output_type": "stream",
          "name": "stdout",
          "text": [
            "Requirement already satisfied: bs4 in /usr/local/lib/python3.10/dist-packages (0.0.1)\n",
            "Requirement already satisfied: beautifulsoup4 in /usr/local/lib/python3.10/dist-packages (from bs4) (4.11.2)\n",
            "Requirement already satisfied: soupsieve>1.2 in /usr/local/lib/python3.10/dist-packages (from beautifulsoup4->bs4) (2.4.1)\n"
          ]
        }
      ],
      "source": [
        "# puede ejecutar comandos de terminal/bash desde una computadora portátil usando !\n",
        "! pip install bs4"
      ]
    },
    {
      "cell_type": "code",
      "execution_count": null,
      "metadata": {
        "colab": {
          "base_uri": "https://localhost:8080/"
        },
        "id": "9jNy0rTABfLj",
        "outputId": "835194c9-5a85-4a94-a202-91eb3ccef123"
      },
      "outputs": [
        {
          "output_type": "stream",
          "name": "stdout",
          "text": [
            "Dr. Ram BasnetProfessor of Computer Science and CybersecurityHomeTeachingResearchResourcesContactTeachingTeaching InterestsCybersecurityPython, C++, JavaScript, DatabasesData Science and ML ApplicationsWeb Design and Secure Web App DevelopmentCourses Taught at CMUCSCI 106- Web I  6CSCI 110- Beg. Python  8CSCI 111- CS 1  11CSCI 112- CS 2  7CSCI 206- Web 2  2CSCI 250- CS 3  3CSCI 310- Adv. Python  10CSCI 310- Adv. JavaScript  3CSCI 370- Computer Security  5CSCI 420- Software Security  9CSCI 465- Net/App Security  8CSCI 425- Python Machine Learning  3CSCI 260- Intro To Database  1CSCI 375- OOP & Design Patterns  1SPRING 2023 SCHEDULETimeMonTuesWedThrsFri8:00     8:30     9:00Office HourCH 3299-9:50Office HourCH 3299-9:50Office HourCH 3299-9:50Office HourCH 3299-9:50Office HourCH 3299-9:509:3010:00Python Machine LearningCH 21510:00-10:50 Python Machine LearningCH 21510:00-10:50 Python Machine LearningCH 21510:00-10:5010:30  11:00     11:30     12:00     12:30 OOP & Design PatternsCH 31012:30-1:45 OOP & Design PatternsCH 31012:30-1:45 1:00Software SecurityCH 2151:00-1:50Software SecurityCH 2151:00-1:50Software SecurityCH 2151:00-1:501:302:00     2:30     3:00     | Home | Teaching | Research | Resources | Contact |    © 2023\n"
          ]
        }
      ],
      "source": [
        "from bs4 import BeautifulSoup\n",
        "localfile = 'teaching.html'\n",
        "with open(localfile) as f:\n",
        "    soup = BeautifulSoup(f.read(), 'lxml')\n",
        "text = soup.get_text()\n",
        "print(text)"
      ]
    },
    {
      "cell_type": "code",
      "execution_count": null,
      "metadata": {
        "id": "ugBDKjEnBfLj"
      },
      "outputs": [],
      "source": [
        "# break into lines and remove leading and trailing space on each line\n",
        "lines = [line.strip() for line in text.splitlines()]"
      ]
    },
    {
      "cell_type": "code",
      "execution_count": null,
      "metadata": {
        "colab": {
          "base_uri": "https://localhost:8080/"
        },
        "id": "BQqrX9OCBfLj",
        "outputId": "f21c0bc8-831a-40b0-b6e2-24add729c70d"
      },
      "outputs": [
        {
          "output_type": "stream",
          "name": "stdout",
          "text": [
            "['Dr. Ram BasnetProfessor of Computer Science and CybersecurityHomeTeachingResearchResourcesContactTeachingTeaching InterestsCybersecurityPython, C++, JavaScript, DatabasesData Science and ML ApplicationsWeb Design and Secure Web App DevelopmentCourses Taught at CMUCSCI 106- Web I \\xa06CSCI 110- Beg. Python \\xa08CSCI 111- CS 1 \\xa011CSCI 112- CS 2 \\xa07CSCI 206- Web 2 \\xa02CSCI 250- CS 3 \\xa03CSCI 310- Adv. Python \\xa010CSCI 310- Adv. JavaScript \\xa03CSCI 370- Computer Security \\xa05CSCI 420- Software Security \\xa09CSCI 465- Net/App Security \\xa08CSCI 425- Python Machine Learning \\xa03CSCI 260- Intro To Database \\xa01CSCI 375- OOP & Design Patterns \\xa01SPRING 2023 SCHEDULETimeMonTuesWedThrsFri8:00\\xa0\\xa0\\xa0\\xa0\\xa08:30\\xa0\\xa0\\xa0\\xa0\\xa09:00Office HourCH 3299-9:50Office HourCH 3299-9:50Office HourCH 3299-9:50Office HourCH 3299-9:50Office HourCH 3299-9:509:3010:00Python Machine LearningCH 21510:00-10:50\\xa0Python Machine LearningCH 21510:00-10:50\\xa0Python Machine LearningCH 21510:00-10:5010:30\\xa0\\xa011:00\\xa0\\xa0\\xa0\\xa0\\xa011:30\\xa0\\xa0\\xa0\\xa0\\xa012:00\\xa0\\xa0\\xa0\\xa0\\xa012:30\\xa0OOP & Design PatternsCH 31012:30-1:45\\xa0OOP & Design PatternsCH 31012:30-1:45\\xa01:00Software SecurityCH 2151:00-1:50Software SecurityCH 2151:00-1:50Software SecurityCH 2151:00-1:501:302:00\\xa0\\xa0\\xa0\\xa0\\xa02:30\\xa0\\xa0\\xa0\\xa0\\xa03:00\\xa0\\xa0\\xa0\\xa0\\xa0|\\xa0Home\\xa0|\\xa0Teaching\\xa0|\\xa0Research\\xa0|\\xa0Resources\\xa0|\\xa0Contact\\xa0| \\xa0\\xa0 © 2023']\n"
          ]
        }
      ],
      "source": [
        "print(lines[:20])"
      ]
    },
    {
      "cell_type": "code",
      "execution_count": null,
      "metadata": {
        "id": "ywt0OcEIBfLj"
      },
      "outputs": [],
      "source": [
        "# create list of words by spliting multi-word elements\n",
        "words = [word.strip().lower() for line in lines for word in line.split()]"
      ]
    },
    {
      "cell_type": "code",
      "execution_count": null,
      "metadata": {
        "colab": {
          "base_uri": "https://localhost:8080/"
        },
        "id": "E_ZQ47rGBfLj",
        "outputId": "27adfcc0-9c62-4efa-8109-b6978d2310f6"
      },
      "outputs": [
        {
          "output_type": "stream",
          "name": "stdout",
          "text": [
            "['dr.', 'ram', 'basnetprofessor', 'of', 'computer', 'science', 'and', 'cybersecurityhometeachingresearchresourcescontactteachingteaching', 'interestscybersecuritypython,', 'c++,', 'javascript,', 'databasesdata', 'science', 'and', 'ml', 'applicationsweb', 'design', 'and', 'secure', 'web']\n"
          ]
        }
      ],
      "source": [
        "print(words[:20])"
      ]
    },
    {
      "cell_type": "code",
      "execution_count": null,
      "metadata": {
        "colab": {
          "base_uri": "https://localhost:8080/"
        },
        "id": "ew8OYvA9BfLk",
        "outputId": "4dafdbca-705e-464a-9e2a-1b30fb70f172"
      },
      "outputs": [
        {
          "output_type": "stream",
          "name": "stdout",
          "text": [
            "There are 146 words in the file.\n"
          ]
        }
      ],
      "source": [
        "print('There are {0} words in the file.'.format(len(words)))"
      ]
    },
    {
      "cell_type": "markdown",
      "metadata": {
        "id": "6PTHjw4UBfLk"
      },
      "source": [
        "## Find histogram of words\n",
        "- use DefaultDict found in collections module\n",
        "- https://docs.python.org/3/library/collections.html"
      ]
    },
    {
      "cell_type": "code",
      "execution_count": null,
      "metadata": {
        "id": "6VupERAqBfLk"
      },
      "outputs": [],
      "source": [
        "from collections import defaultdict"
      ]
    },
    {
      "cell_type": "code",
      "execution_count": null,
      "metadata": {
        "id": "ywF7RcvzBfLk"
      },
      "outputs": [],
      "source": [
        "hist = defaultdict(int)\n",
        "for w in words:\n",
        "    hist[w] += 1"
      ]
    },
    {
      "cell_type": "code",
      "execution_count": null,
      "metadata": {
        "id": "tIJY8XOoBfLk"
      },
      "outputs": [],
      "source": [
        "# print top 10 most common words\n",
        "listHist = [(k, v) for k, v in hist.items()]"
      ]
    },
    {
      "cell_type": "code",
      "execution_count": null,
      "metadata": {
        "colab": {
          "base_uri": "https://localhost:8080/"
        },
        "id": "t2V8x_caBfLk",
        "outputId": "2dd940e0-cc5a-4dd9-db1d-ddd802f766ab"
      },
      "outputs": [
        {
          "output_type": "stream",
          "name": "stdout",
          "text": [
            "[('dr.', 1), ('ram', 1), ('basnetprofessor', 1), ('of', 1), ('computer', 2), ('science', 2), ('and', 3), ('cybersecurityhometeachingresearchresourcescontactteachingteaching', 1), ('interestscybersecuritypython,', 1), ('c++,', 1)]\n"
          ]
        }
      ],
      "source": [
        "print(listHist[:10])"
      ]
    },
    {
      "cell_type": "code",
      "execution_count": null,
      "metadata": {
        "id": "_PCPPobyBfLk"
      },
      "outputs": [],
      "source": [
        "listHist.sort(key = lambda x: x[1], reverse=True)"
      ]
    },
    {
      "cell_type": "code",
      "execution_count": null,
      "metadata": {
        "colab": {
          "base_uri": "https://localhost:8080/"
        },
        "id": "RaPG--ggBfLk",
        "outputId": "8ad28725-1067-4d07-d299-42fe7ea66518"
      },
      "outputs": [
        {
          "output_type": "stream",
          "name": "stdout",
          "text": [
            "[('|', 6), ('python', 5), ('hourch', 5), ('design', 4), ('machine', 4), ('3299-9:50office', 4), ('and', 3), ('web', 3), ('cs', 3), ('3csci', 3)]\n"
          ]
        }
      ],
      "source": [
        "print(listHist[:10])"
      ]
    },
    {
      "cell_type": "markdown",
      "metadata": {
        "id": "AJvvLLRYBfLl"
      },
      "source": [
        "## trabajar con archivos binarios\n",
        "- el siguiente ejemplo copia un archivo binario como image"
      ]
    },
    {
      "cell_type": "code",
      "execution_count": null,
      "metadata": {
        "id": "-eOENZLLBfLl"
      },
      "outputs": [],
      "source": [
        "fileSrc = 'brain.jpg'\n",
        "fileDst = 'brain-copy.jpg'\n",
        "with open(fileSrc, 'rb') as rbf:\n",
        "    #rb - leer modo binario\n",
        "    data = rbf.read() # leer todo el archivo binario\n",
        "    with open(fileDst, 'wb') as wbf:\n",
        "        wbf.write(data) # escribir todo el archivo binario"
      ]
    },
    {
      "cell_type": "markdown",
      "metadata": {
        "id": "pogVgUiFBfLl"
      },
      "source": [
        "## ¡utilice cheksum para comparar si dos archivos coinciden exactamente!\n",
        "\n",
        "- checksum asegura que ni un solo bit sea diferente entre los dos archivos\n",
        "- usado en seguridad\n",
        "- importar y usar hashlib - https://docs.python.org/3/library/hashlib.html"
      ]
    },
    {
      "cell_type": "code",
      "execution_count": null,
      "metadata": {
        "colab": {
          "base_uri": "https://localhost:8080/"
        },
        "id": "j6k7qlF-BfLl",
        "outputId": "f7f6ca7b-6f8b-4c32-89b4-8d6d97209f8d"
      },
      "outputs": [
        {
          "output_type": "stream",
          "name": "stdout",
          "text": [
            "two files checksums match!\n"
          ]
        }
      ],
      "source": [
        "import hashlib\n",
        "file1Contents = open(fileSrc, 'rb').read()\n",
        "file2Contents = open(fileDst, 'rb').read()\n",
        "\n",
        "file1ChkSum = hashlib.sha256(file1Contents).hexdigest()\n",
        "file2ChkSum = hashlib.sha256(file2Contents).hexdigest()\n",
        "if (file1ChkSum == file2ChkSum):\n",
        "    print('two files checksums match!')\n",
        "else:\n",
        "    print('oops! two files checksums do NOT match!')"
      ]
    },
    {
      "cell_type": "markdown",
      "metadata": {
        "id": "OHS6tO0vBfLl"
      },
      "source": [
        "## Serialización de objetos de Python con la biblioteca pickle\n",
        "https://docs.python.org/3/library/pickle.html\n",
        "- El módulo pickle implementa protocolos binarios para serializar y deserializar un objeto de Python\n",
        "- Pickling : serialización de objetos de python\n",
        "- Un-Pickling  - deserialización del objeto python (operación inversa)"
      ]
    },
    {
      "cell_type": "code",
      "execution_count": null,
      "metadata": {
        "id": "GKh85TCbBfLl"
      },
      "outputs": [],
      "source": [
        "import pickle\n",
        "alist = list(range(2, 21, 2))"
      ]
    },
    {
      "cell_type": "code",
      "execution_count": null,
      "metadata": {
        "colab": {
          "base_uri": "https://localhost:8080/"
        },
        "id": "8KGGBiLvBfLl",
        "outputId": "7405d544-fa36-4a17-8c3b-40bc4eb9d121"
      },
      "outputs": [
        {
          "output_type": "stream",
          "name": "stdout",
          "text": [
            "[2, 4, 6, 8, 10, 12, 14, 16, 18, 20]\n"
          ]
        }
      ],
      "source": [
        "print(alist)"
      ]
    },
    {
      "cell_type": "code",
      "execution_count": null,
      "metadata": {
        "id": "93x3vlXvBfLl"
      },
      "outputs": [],
      "source": [
        "# lets pickle alist\n",
        "pickleFile = 'myPickle.pkl'\n",
        "with open(pickleFile, 'wb') as p:\n",
        "    pickle.dump(alist, p)"
      ]
    },
    {
      "cell_type": "code",
      "execution_count": null,
      "metadata": {
        "id": "JxrFUWhdBfLl"
      },
      "outputs": [],
      "source": [
        "# lets unpickle alist\n",
        "with open(pickleFile, 'rb') as p:\n",
        "    blist = pickle.load(p)"
      ]
    },
    {
      "cell_type": "code",
      "execution_count": null,
      "metadata": {
        "colab": {
          "base_uri": "https://localhost:8080/"
        },
        "id": "l2-LAfhaBfLl",
        "outputId": "fcfdd20a-68bd-4234-8f73-798a852e0447"
      },
      "outputs": [
        {
          "output_type": "execute_result",
          "data": {
            "text/plain": [
              "True"
            ]
          },
          "metadata": {},
          "execution_count": 31
        }
      ],
      "source": [
        "alist == blist"
      ]
    },
    {
      "cell_type": "markdown",
      "source": [
        "# Usando NLTK"
      ],
      "metadata": {
        "id": "pjyaF86XERVz"
      }
    },
    {
      "cell_type": "code",
      "execution_count": null,
      "metadata": {
        "colab": {
          "base_uri": "https://localhost:8080/"
        },
        "id": "51ZEJ1JNBfLl",
        "outputId": "e44fa05e-6da5-4386-f4d5-1720cbe857ef"
      },
      "outputs": [
        {
          "output_type": "stream",
          "name": "stdout",
          "text": [
            "Requirement already satisfied: NLTK in /usr/local/lib/python3.10/dist-packages (3.8.1)\n",
            "Requirement already satisfied: click in /usr/local/lib/python3.10/dist-packages (from NLTK) (8.1.4)\n",
            "Requirement already satisfied: joblib in /usr/local/lib/python3.10/dist-packages (from NLTK) (1.3.1)\n",
            "Requirement already satisfied: regex>=2021.8.3 in /usr/local/lib/python3.10/dist-packages (from NLTK) (2022.10.31)\n",
            "Requirement already satisfied: tqdm in /usr/local/lib/python3.10/dist-packages (from NLTK) (4.65.0)\n"
          ]
        }
      ],
      "source": [
        "pip install NLTK"
      ]
    },
    {
      "cell_type": "code",
      "source": [
        "import nltk\n",
        "from nltk.corpus import gutenberg\n",
        "from nltk.corpus import stopwords"
      ],
      "metadata": {
        "id": "Hsf83cWXEWm9"
      },
      "execution_count": null,
      "outputs": []
    },
    {
      "cell_type": "markdown",
      "source": [
        "# Trabajando con Corpus"
      ],
      "metadata": {
        "id": "ATu3nt6LEaiE"
      }
    },
    {
      "cell_type": "code",
      "source": [
        "nltk.download('gutenberg')"
      ],
      "metadata": {
        "colab": {
          "base_uri": "https://localhost:8080/"
        },
        "id": "1yONpdOQEa7u",
        "outputId": "c3ef351b-7a3a-4cc2-a4cb-9eaddad9b5ed"
      },
      "execution_count": null,
      "outputs": [
        {
          "output_type": "stream",
          "name": "stderr",
          "text": [
            "[nltk_data] Downloading package gutenberg to /root/nltk_data...\n",
            "[nltk_data]   Unzipping corpora/gutenberg.zip.\n"
          ]
        },
        {
          "output_type": "execute_result",
          "data": {
            "text/plain": [
              "True"
            ]
          },
          "metadata": {},
          "execution_count": 34
        }
      ]
    },
    {
      "cell_type": "code",
      "source": [
        "nltk.corpus.gutenberg.fileids()"
      ],
      "metadata": {
        "colab": {
          "base_uri": "https://localhost:8080/"
        },
        "id": "IELtynUrEi_Q",
        "outputId": "440cb2e9-6896-4904-a5c0-68a1180c3636"
      },
      "execution_count": null,
      "outputs": [
        {
          "output_type": "execute_result",
          "data": {
            "text/plain": [
              "['austen-emma.txt',\n",
              " 'austen-persuasion.txt',\n",
              " 'austen-sense.txt',\n",
              " 'bible-kjv.txt',\n",
              " 'blake-poems.txt',\n",
              " 'bryant-stories.txt',\n",
              " 'burgess-busterbrown.txt',\n",
              " 'carroll-alice.txt',\n",
              " 'chesterton-ball.txt',\n",
              " 'chesterton-brown.txt',\n",
              " 'chesterton-thursday.txt',\n",
              " 'edgeworth-parents.txt',\n",
              " 'melville-moby_dick.txt',\n",
              " 'milton-paradise.txt',\n",
              " 'shakespeare-caesar.txt',\n",
              " 'shakespeare-hamlet.txt',\n",
              " 'shakespeare-macbeth.txt',\n",
              " 'whitman-leaves.txt']"
            ]
          },
          "metadata": {},
          "execution_count": 35
        }
      ]
    },
    {
      "cell_type": "code",
      "source": [
        "hamlet = nltk.corpus.gutenberg.words('shakespeare-hamlet.txt')"
      ],
      "metadata": {
        "id": "-qk_CpRIElwc"
      },
      "execution_count": null,
      "outputs": []
    },
    {
      "cell_type": "code",
      "source": [
        "num_caracteres = len(gutenberg.raw('shakespeare-hamlet.txt'))\n",
        "num_palabras = len(gutenberg.words('shakespeare-hamlet.txt'))\n",
        "num_oraciones = len(gutenberg.sents('shakespeare-hamlet.txt'))\n",
        "num_vocab = len(set([w.lower() for w in gutenberg.words('shakespeare-hamlet.txt')]))\n",
        "\n",
        "print('Cantidad de caracteres: ',num_caracteres )\n",
        "print('Cantidad de palabras: ',num_palabras )\n",
        "print('Cantidad de oraciones: ',num_oraciones )\n",
        "print('Longitud promedio de una palabra: ',int(num_caracteres/num_palabras) )\n",
        "print('Longitud promedio de una oracion: ',int(num_palabras/num_oraciones) )\n",
        "print('Diversidad léxica: ',int(num_palabras/num_vocab) )"
      ],
      "metadata": {
        "colab": {
          "base_uri": "https://localhost:8080/",
          "height": 779
        },
        "id": "vZ5WhFVoEshW",
        "outputId": "f1fd0f7c-e975-4aa4-fa1b-29d59f983a75"
      },
      "execution_count": null,
      "outputs": [
        {
          "output_type": "error",
          "ename": "LookupError",
          "evalue": "ignored",
          "traceback": [
            "\u001b[0;31m---------------------------------------------------------------------------\u001b[0m",
            "\u001b[0;31mLookupError\u001b[0m                               Traceback (most recent call last)",
            "\u001b[0;32m<ipython-input-37-2ad6c5ed3c85>\u001b[0m in \u001b[0;36m<cell line: 3>\u001b[0;34m()\u001b[0m\n\u001b[1;32m      1\u001b[0m \u001b[0mnum_caracteres\u001b[0m \u001b[0;34m=\u001b[0m \u001b[0mlen\u001b[0m\u001b[0;34m(\u001b[0m\u001b[0mgutenberg\u001b[0m\u001b[0;34m.\u001b[0m\u001b[0mraw\u001b[0m\u001b[0;34m(\u001b[0m\u001b[0;34m'shakespeare-hamlet.txt'\u001b[0m\u001b[0;34m)\u001b[0m\u001b[0;34m)\u001b[0m\u001b[0;34m\u001b[0m\u001b[0;34m\u001b[0m\u001b[0m\n\u001b[1;32m      2\u001b[0m \u001b[0mnum_palabras\u001b[0m \u001b[0;34m=\u001b[0m \u001b[0mlen\u001b[0m\u001b[0;34m(\u001b[0m\u001b[0mgutenberg\u001b[0m\u001b[0;34m.\u001b[0m\u001b[0mwords\u001b[0m\u001b[0;34m(\u001b[0m\u001b[0;34m'shakespeare-hamlet.txt'\u001b[0m\u001b[0;34m)\u001b[0m\u001b[0;34m)\u001b[0m\u001b[0;34m\u001b[0m\u001b[0;34m\u001b[0m\u001b[0m\n\u001b[0;32m----> 3\u001b[0;31m \u001b[0mnum_oraciones\u001b[0m \u001b[0;34m=\u001b[0m \u001b[0mlen\u001b[0m\u001b[0;34m(\u001b[0m\u001b[0mgutenberg\u001b[0m\u001b[0;34m.\u001b[0m\u001b[0msents\u001b[0m\u001b[0;34m(\u001b[0m\u001b[0;34m'shakespeare-hamlet.txt'\u001b[0m\u001b[0;34m)\u001b[0m\u001b[0;34m)\u001b[0m\u001b[0;34m\u001b[0m\u001b[0;34m\u001b[0m\u001b[0m\n\u001b[0m\u001b[1;32m      4\u001b[0m \u001b[0mnum_vocab\u001b[0m \u001b[0;34m=\u001b[0m \u001b[0mlen\u001b[0m\u001b[0;34m(\u001b[0m\u001b[0mset\u001b[0m\u001b[0;34m(\u001b[0m\u001b[0;34m[\u001b[0m\u001b[0mw\u001b[0m\u001b[0;34m.\u001b[0m\u001b[0mlower\u001b[0m\u001b[0;34m(\u001b[0m\u001b[0;34m)\u001b[0m \u001b[0;32mfor\u001b[0m \u001b[0mw\u001b[0m \u001b[0;32min\u001b[0m \u001b[0mgutenberg\u001b[0m\u001b[0;34m.\u001b[0m\u001b[0mwords\u001b[0m\u001b[0;34m(\u001b[0m\u001b[0;34m'shakespeare-hamlet.txt'\u001b[0m\u001b[0;34m)\u001b[0m\u001b[0;34m]\u001b[0m\u001b[0;34m)\u001b[0m\u001b[0;34m)\u001b[0m\u001b[0;34m\u001b[0m\u001b[0;34m\u001b[0m\u001b[0m\n\u001b[1;32m      5\u001b[0m \u001b[0;34m\u001b[0m\u001b[0m\n",
            "\u001b[0;32m/usr/local/lib/python3.10/dist-packages/nltk/corpus/reader/util.py\u001b[0m in \u001b[0;36m__len__\u001b[0;34m(self)\u001b[0m\n\u001b[1;32m    238\u001b[0m             \u001b[0;31m# iterate_from() sets self._len when it reaches the end\u001b[0m\u001b[0;34m\u001b[0m\u001b[0;34m\u001b[0m\u001b[0m\n\u001b[1;32m    239\u001b[0m             \u001b[0;31m# of the file:\u001b[0m\u001b[0;34m\u001b[0m\u001b[0;34m\u001b[0m\u001b[0m\n\u001b[0;32m--> 240\u001b[0;31m             \u001b[0;32mfor\u001b[0m \u001b[0mtok\u001b[0m \u001b[0;32min\u001b[0m \u001b[0mself\u001b[0m\u001b[0;34m.\u001b[0m\u001b[0miterate_from\u001b[0m\u001b[0;34m(\u001b[0m\u001b[0mself\u001b[0m\u001b[0;34m.\u001b[0m\u001b[0m_toknum\u001b[0m\u001b[0;34m[\u001b[0m\u001b[0;34m-\u001b[0m\u001b[0;36m1\u001b[0m\u001b[0;34m]\u001b[0m\u001b[0;34m)\u001b[0m\u001b[0;34m:\u001b[0m\u001b[0;34m\u001b[0m\u001b[0;34m\u001b[0m\u001b[0m\n\u001b[0m\u001b[1;32m    241\u001b[0m                 \u001b[0;32mpass\u001b[0m\u001b[0;34m\u001b[0m\u001b[0;34m\u001b[0m\u001b[0m\n\u001b[1;32m    242\u001b[0m         \u001b[0;32mreturn\u001b[0m \u001b[0mself\u001b[0m\u001b[0;34m.\u001b[0m\u001b[0m_len\u001b[0m\u001b[0;34m\u001b[0m\u001b[0;34m\u001b[0m\u001b[0m\n",
            "\u001b[0;32m/usr/local/lib/python3.10/dist-packages/nltk/corpus/reader/util.py\u001b[0m in \u001b[0;36miterate_from\u001b[0;34m(self, start_tok)\u001b[0m\n\u001b[1;32m    304\u001b[0m             \u001b[0mself\u001b[0m\u001b[0;34m.\u001b[0m\u001b[0m_current_toknum\u001b[0m \u001b[0;34m=\u001b[0m \u001b[0mtoknum\u001b[0m\u001b[0;34m\u001b[0m\u001b[0;34m\u001b[0m\u001b[0m\n\u001b[1;32m    305\u001b[0m             \u001b[0mself\u001b[0m\u001b[0;34m.\u001b[0m\u001b[0m_current_blocknum\u001b[0m \u001b[0;34m=\u001b[0m \u001b[0mblock_index\u001b[0m\u001b[0;34m\u001b[0m\u001b[0;34m\u001b[0m\u001b[0m\n\u001b[0;32m--> 306\u001b[0;31m             \u001b[0mtokens\u001b[0m \u001b[0;34m=\u001b[0m \u001b[0mself\u001b[0m\u001b[0;34m.\u001b[0m\u001b[0mread_block\u001b[0m\u001b[0;34m(\u001b[0m\u001b[0mself\u001b[0m\u001b[0;34m.\u001b[0m\u001b[0m_stream\u001b[0m\u001b[0;34m)\u001b[0m\u001b[0;34m\u001b[0m\u001b[0;34m\u001b[0m\u001b[0m\n\u001b[0m\u001b[1;32m    307\u001b[0m             assert isinstance(tokens, (tuple, list, AbstractLazySequence)), (\n\u001b[1;32m    308\u001b[0m                 \u001b[0;34m\"block reader %s() should return list or tuple.\"\u001b[0m\u001b[0;34m\u001b[0m\u001b[0;34m\u001b[0m\u001b[0m\n",
            "\u001b[0;32m/usr/local/lib/python3.10/dist-packages/nltk/corpus/reader/plaintext.py\u001b[0m in \u001b[0;36m_read_sent_block\u001b[0;34m(self, stream)\u001b[0m\n\u001b[1;32m    124\u001b[0m                 [\n\u001b[1;32m    125\u001b[0m                     \u001b[0mself\u001b[0m\u001b[0;34m.\u001b[0m\u001b[0m_word_tokenizer\u001b[0m\u001b[0;34m.\u001b[0m\u001b[0mtokenize\u001b[0m\u001b[0;34m(\u001b[0m\u001b[0msent\u001b[0m\u001b[0;34m)\u001b[0m\u001b[0;34m\u001b[0m\u001b[0;34m\u001b[0m\u001b[0m\n\u001b[0;32m--> 126\u001b[0;31m                     \u001b[0;32mfor\u001b[0m \u001b[0msent\u001b[0m \u001b[0;32min\u001b[0m \u001b[0mself\u001b[0m\u001b[0;34m.\u001b[0m\u001b[0m_sent_tokenizer\u001b[0m\u001b[0;34m.\u001b[0m\u001b[0mtokenize\u001b[0m\u001b[0;34m(\u001b[0m\u001b[0mpara\u001b[0m\u001b[0;34m)\u001b[0m\u001b[0;34m\u001b[0m\u001b[0;34m\u001b[0m\u001b[0m\n\u001b[0m\u001b[1;32m    127\u001b[0m                 ]\n\u001b[1;32m    128\u001b[0m             )\n",
            "\u001b[0;32m/usr/local/lib/python3.10/dist-packages/nltk/data.py\u001b[0m in \u001b[0;36m__getattr__\u001b[0;34m(self, attr)\u001b[0m\n\u001b[1;32m    901\u001b[0m \u001b[0;34m\u001b[0m\u001b[0m\n\u001b[1;32m    902\u001b[0m     \u001b[0;32mdef\u001b[0m \u001b[0m__getattr__\u001b[0m\u001b[0;34m(\u001b[0m\u001b[0mself\u001b[0m\u001b[0;34m,\u001b[0m \u001b[0mattr\u001b[0m\u001b[0;34m)\u001b[0m\u001b[0;34m:\u001b[0m\u001b[0;34m\u001b[0m\u001b[0;34m\u001b[0m\u001b[0m\n\u001b[0;32m--> 903\u001b[0;31m         \u001b[0mself\u001b[0m\u001b[0;34m.\u001b[0m\u001b[0m__load\u001b[0m\u001b[0;34m(\u001b[0m\u001b[0;34m)\u001b[0m\u001b[0;34m\u001b[0m\u001b[0;34m\u001b[0m\u001b[0m\n\u001b[0m\u001b[1;32m    904\u001b[0m         \u001b[0;31m# This looks circular, but its not, since __load() changes our\u001b[0m\u001b[0;34m\u001b[0m\u001b[0;34m\u001b[0m\u001b[0m\n\u001b[1;32m    905\u001b[0m         \u001b[0;31m# __class__ to something new:\u001b[0m\u001b[0;34m\u001b[0m\u001b[0;34m\u001b[0m\u001b[0m\n",
            "\u001b[0;32m/usr/local/lib/python3.10/dist-packages/nltk/data.py\u001b[0m in \u001b[0;36m__load\u001b[0;34m(self)\u001b[0m\n\u001b[1;32m    893\u001b[0m \u001b[0;34m\u001b[0m\u001b[0m\n\u001b[1;32m    894\u001b[0m     \u001b[0;32mdef\u001b[0m \u001b[0m__load\u001b[0m\u001b[0;34m(\u001b[0m\u001b[0mself\u001b[0m\u001b[0;34m)\u001b[0m\u001b[0;34m:\u001b[0m\u001b[0;34m\u001b[0m\u001b[0;34m\u001b[0m\u001b[0m\n\u001b[0;32m--> 895\u001b[0;31m         \u001b[0mresource\u001b[0m \u001b[0;34m=\u001b[0m \u001b[0mload\u001b[0m\u001b[0;34m(\u001b[0m\u001b[0mself\u001b[0m\u001b[0;34m.\u001b[0m\u001b[0m_path\u001b[0m\u001b[0;34m)\u001b[0m\u001b[0;34m\u001b[0m\u001b[0;34m\u001b[0m\u001b[0m\n\u001b[0m\u001b[1;32m    896\u001b[0m         \u001b[0;31m# This is where the magic happens!  Transform ourselves into\u001b[0m\u001b[0;34m\u001b[0m\u001b[0;34m\u001b[0m\u001b[0m\n\u001b[1;32m    897\u001b[0m         \u001b[0;31m# the object by modifying our own __dict__ and __class__ to\u001b[0m\u001b[0;34m\u001b[0m\u001b[0;34m\u001b[0m\u001b[0m\n",
            "\u001b[0;32m/usr/local/lib/python3.10/dist-packages/nltk/data.py\u001b[0m in \u001b[0;36mload\u001b[0;34m(resource_url, format, cache, verbose, logic_parser, fstruct_reader, encoding)\u001b[0m\n\u001b[1;32m    748\u001b[0m \u001b[0;34m\u001b[0m\u001b[0m\n\u001b[1;32m    749\u001b[0m     \u001b[0;31m# Load the resource.\u001b[0m\u001b[0;34m\u001b[0m\u001b[0;34m\u001b[0m\u001b[0m\n\u001b[0;32m--> 750\u001b[0;31m     \u001b[0mopened_resource\u001b[0m \u001b[0;34m=\u001b[0m \u001b[0m_open\u001b[0m\u001b[0;34m(\u001b[0m\u001b[0mresource_url\u001b[0m\u001b[0;34m)\u001b[0m\u001b[0;34m\u001b[0m\u001b[0;34m\u001b[0m\u001b[0m\n\u001b[0m\u001b[1;32m    751\u001b[0m \u001b[0;34m\u001b[0m\u001b[0m\n\u001b[1;32m    752\u001b[0m     \u001b[0;32mif\u001b[0m \u001b[0mformat\u001b[0m \u001b[0;34m==\u001b[0m \u001b[0;34m\"raw\"\u001b[0m\u001b[0;34m:\u001b[0m\u001b[0;34m\u001b[0m\u001b[0;34m\u001b[0m\u001b[0m\n",
            "\u001b[0;32m/usr/local/lib/python3.10/dist-packages/nltk/data.py\u001b[0m in \u001b[0;36m_open\u001b[0;34m(resource_url)\u001b[0m\n\u001b[1;32m    874\u001b[0m \u001b[0;34m\u001b[0m\u001b[0m\n\u001b[1;32m    875\u001b[0m     \u001b[0;32mif\u001b[0m \u001b[0mprotocol\u001b[0m \u001b[0;32mis\u001b[0m \u001b[0;32mNone\u001b[0m \u001b[0;32mor\u001b[0m \u001b[0mprotocol\u001b[0m\u001b[0;34m.\u001b[0m\u001b[0mlower\u001b[0m\u001b[0;34m(\u001b[0m\u001b[0;34m)\u001b[0m \u001b[0;34m==\u001b[0m \u001b[0;34m\"nltk\"\u001b[0m\u001b[0;34m:\u001b[0m\u001b[0;34m\u001b[0m\u001b[0;34m\u001b[0m\u001b[0m\n\u001b[0;32m--> 876\u001b[0;31m         \u001b[0;32mreturn\u001b[0m \u001b[0mfind\u001b[0m\u001b[0;34m(\u001b[0m\u001b[0mpath_\u001b[0m\u001b[0;34m,\u001b[0m \u001b[0mpath\u001b[0m \u001b[0;34m+\u001b[0m \u001b[0;34m[\u001b[0m\u001b[0;34m\"\"\u001b[0m\u001b[0;34m]\u001b[0m\u001b[0;34m)\u001b[0m\u001b[0;34m.\u001b[0m\u001b[0mopen\u001b[0m\u001b[0;34m(\u001b[0m\u001b[0;34m)\u001b[0m\u001b[0;34m\u001b[0m\u001b[0;34m\u001b[0m\u001b[0m\n\u001b[0m\u001b[1;32m    877\u001b[0m     \u001b[0;32melif\u001b[0m \u001b[0mprotocol\u001b[0m\u001b[0;34m.\u001b[0m\u001b[0mlower\u001b[0m\u001b[0;34m(\u001b[0m\u001b[0;34m)\u001b[0m \u001b[0;34m==\u001b[0m \u001b[0;34m\"file\"\u001b[0m\u001b[0;34m:\u001b[0m\u001b[0;34m\u001b[0m\u001b[0;34m\u001b[0m\u001b[0m\n\u001b[1;32m    878\u001b[0m         \u001b[0;31m# urllib might not use mode='rb', so handle this one ourselves:\u001b[0m\u001b[0;34m\u001b[0m\u001b[0;34m\u001b[0m\u001b[0m\n",
            "\u001b[0;32m/usr/local/lib/python3.10/dist-packages/nltk/data.py\u001b[0m in \u001b[0;36mfind\u001b[0;34m(resource_name, paths)\u001b[0m\n\u001b[1;32m    581\u001b[0m     \u001b[0msep\u001b[0m \u001b[0;34m=\u001b[0m \u001b[0;34m\"*\"\u001b[0m \u001b[0;34m*\u001b[0m \u001b[0;36m70\u001b[0m\u001b[0;34m\u001b[0m\u001b[0;34m\u001b[0m\u001b[0m\n\u001b[1;32m    582\u001b[0m     \u001b[0mresource_not_found\u001b[0m \u001b[0;34m=\u001b[0m \u001b[0;34mf\"\\n{sep}\\n{msg}\\n{sep}\\n\"\u001b[0m\u001b[0;34m\u001b[0m\u001b[0;34m\u001b[0m\u001b[0m\n\u001b[0;32m--> 583\u001b[0;31m     \u001b[0;32mraise\u001b[0m \u001b[0mLookupError\u001b[0m\u001b[0;34m(\u001b[0m\u001b[0mresource_not_found\u001b[0m\u001b[0;34m)\u001b[0m\u001b[0;34m\u001b[0m\u001b[0;34m\u001b[0m\u001b[0m\n\u001b[0m\u001b[1;32m    584\u001b[0m \u001b[0;34m\u001b[0m\u001b[0m\n\u001b[1;32m    585\u001b[0m \u001b[0;34m\u001b[0m\u001b[0m\n",
            "\u001b[0;31mLookupError\u001b[0m: \n**********************************************************************\n  Resource \u001b[93mpunkt\u001b[0m not found.\n  Please use the NLTK Downloader to obtain the resource:\n\n  \u001b[31m>>> import nltk\n  >>> nltk.download('punkt')\n  \u001b[0m\n  For more information see: https://www.nltk.org/data.html\n\n  Attempted to load \u001b[93mtokenizers/punkt/PY3/english.pickle\u001b[0m\n\n  Searched in:\n    - '/root/nltk_data'\n    - '/usr/nltk_data'\n    - '/usr/share/nltk_data'\n    - '/usr/lib/nltk_data'\n    - '/usr/share/nltk_data'\n    - '/usr/local/share/nltk_data'\n    - '/usr/lib/nltk_data'\n    - '/usr/local/lib/nltk_data'\n    - ''\n**********************************************************************\n"
          ]
        }
      ]
    },
    {
      "cell_type": "code",
      "source": [
        "nltk.download('brown')\n",
        "from nltk.corpus import brown"
      ],
      "metadata": {
        "colab": {
          "base_uri": "https://localhost:8080/"
        },
        "id": "5D-oanBdEyAJ",
        "outputId": "c31664e5-9910-4c40-f7ae-f45af9343e5a"
      },
      "execution_count": null,
      "outputs": [
        {
          "output_type": "stream",
          "name": "stderr",
          "text": [
            "[nltk_data] Downloading package brown to /root/nltk_data...\n",
            "[nltk_data]   Unzipping corpora/brown.zip.\n"
          ]
        }
      ]
    },
    {
      "cell_type": "code",
      "source": [
        "brown.categories()"
      ],
      "metadata": {
        "colab": {
          "base_uri": "https://localhost:8080/"
        },
        "id": "H8NmYwk6EztG",
        "outputId": "49b8c3e1-4100-4252-e1ca-3aeefc7c610f"
      },
      "execution_count": null,
      "outputs": [
        {
          "output_type": "execute_result",
          "data": {
            "text/plain": [
              "['adventure',\n",
              " 'belles_lettres',\n",
              " 'editorial',\n",
              " 'fiction',\n",
              " 'government',\n",
              " 'hobbies',\n",
              " 'humor',\n",
              " 'learned',\n",
              " 'lore',\n",
              " 'mystery',\n",
              " 'news',\n",
              " 'religion',\n",
              " 'reviews',\n",
              " 'romance',\n",
              " 'science_fiction']"
            ]
          },
          "metadata": {},
          "execution_count": 39
        }
      ]
    },
    {
      "cell_type": "code",
      "source": [
        "noticias = brown.words(categories='religion')\n",
        "dist_frec = nltk.FreqDist([w.lower() for w in noticias])\n",
        "verbo_modal = ['can','could','may','migth','must','will']\n",
        "for m in verbo_modal:\n",
        "  print(m + \":\", dist_frec[m],)"
      ],
      "metadata": {
        "id": "36Xtb2NqE3tm",
        "outputId": "96e4f3a2-af06-4061-9bde-140de8d34cc9",
        "colab": {
          "base_uri": "https://localhost:8080/"
        }
      },
      "execution_count": null,
      "outputs": [
        {
          "output_type": "stream",
          "name": "stdout",
          "text": [
            "can: 84\n",
            "could: 59\n",
            "may: 79\n",
            "migth: 0\n",
            "must: 54\n",
            "will: 72\n"
          ]
        }
      ]
    }
  ],
  "metadata": {
    "kernelspec": {
      "display_name": "Python 3",
      "language": "python",
      "name": "python3"
    },
    "language_info": {
      "codemirror_mode": {
        "name": "ipython",
        "version": 3
      },
      "file_extension": ".py",
      "mimetype": "text/x-python",
      "name": "python",
      "nbconvert_exporter": "python",
      "pygments_lexer": "ipython3",
      "version": "3.7.2"
    },
    "colab": {
      "provenance": [],
      "include_colab_link": true
    }
  },
  "nbformat": 4,
  "nbformat_minor": 0
}