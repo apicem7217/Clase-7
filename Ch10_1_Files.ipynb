{
  "cells": [
    {
      "cell_type": "markdown",
      "metadata": {
        "id": "view-in-github",
        "colab_type": "text"
      },
      "source": [
        "<a href=\"https://colab.research.google.com/github/apicem7217/Clase-7/blob/Phyton/Ch10_1_Files.ipynb\" target=\"_parent\"><img src=\"https://colab.research.google.com/assets/colab-badge.svg\" alt=\"Open In Colab\"/></a>"
      ]
    },
    {
      "cell_type": "markdown",
      "metadata": {
        "id": "vWMKoZo1e9zi"
      },
      "source": [
        "# Files Input/Output\n",
        "<a href=\"https://colab.research.google.com/github/rambasnet/FDSPython-Notebooks/blob/master/Ch10-Files.ipynb\" target=\"_parent\"><img src=\"https://colab.research.google.com/assets/colab-badge.svg\" alt=\"Open In Colab\"/></a>\n",
        "\n",
        "- data is usually stored in secondary storage medium such as hard drive, flash drive, cd-rw, etc. using named locations called files\n",
        "- files can be organized into folders\n",
        "- programs often need to read data from files and save data back to files for long-term storage\n",
        "- this chapter demostrates how to read and write plain text files\n",
        "- use open() built-in function to work with files\n",
        "```python\n",
        "fileio = open(fileName, mode='r')\n",
        "```\n",
        "- open( ) let's you open file in different mode to read (default), write, append, etc.\n",
        "- see help(open) for details"
      ]
    },
    {
      "cell_type": "code",
      "execution_count": null,
      "metadata": {
        "id": "tXLsgvH9e9zl",
        "outputId": "3f063473-7cc3-4a7f-de69-67934c1872a7"
      },
      "outputs": [
        {
          "name": "stdout",
          "output_type": "stream",
          "text": [
            "Help on built-in function open in module io:\n",
            "\n",
            "open(file, mode='r', buffering=-1, encoding=None, errors=None, newline=None, closefd=True, opener=None)\n",
            "    Open file and return a stream.  Raise OSError upon failure.\n",
            "    \n",
            "    file is either a text or byte string giving the name (and the path\n",
            "    if the file isn't in the current working directory) of the file to\n",
            "    be opened or an integer file descriptor of the file to be\n",
            "    wrapped. (If a file descriptor is given, it is closed when the\n",
            "    returned I/O object is closed, unless closefd is set to False.)\n",
            "    \n",
            "    mode is an optional string that specifies the mode in which the file\n",
            "    is opened. It defaults to 'r' which means open for reading in text\n",
            "    mode.  Other common values are 'w' for writing (truncating the file if\n",
            "    it already exists), 'x' for creating and writing to a new file, and\n",
            "    'a' for appending (which on some Unix systems, means that all writes\n",
            "    append to the end of the file regardless of the current seek position).\n",
            "    In text mode, if encoding is not specified the encoding used is platform\n",
            "    dependent: locale.getpreferredencoding(False) is called to get the\n",
            "    current locale encoding. (For reading and writing raw bytes use binary\n",
            "    mode and leave encoding unspecified.) The available modes are:\n",
            "    \n",
            "    ========= ===============================================================\n",
            "    Character Meaning\n",
            "    --------- ---------------------------------------------------------------\n",
            "    'r'       open for reading (default)\n",
            "    'w'       open for writing, truncating the file first\n",
            "    'x'       create a new file and open it for writing\n",
            "    'a'       open for writing, appending to the end of the file if it exists\n",
            "    'b'       binary mode\n",
            "    't'       text mode (default)\n",
            "    '+'       open a disk file for updating (reading and writing)\n",
            "    'U'       universal newline mode (deprecated)\n",
            "    ========= ===============================================================\n",
            "    \n",
            "    The default mode is 'rt' (open for reading text). For binary random\n",
            "    access, the mode 'w+b' opens and truncates the file to 0 bytes, while\n",
            "    'r+b' opens the file without truncation. The 'x' mode implies 'w' and\n",
            "    raises an `FileExistsError` if the file already exists.\n",
            "    \n",
            "    Python distinguishes between files opened in binary and text modes,\n",
            "    even when the underlying operating system doesn't. Files opened in\n",
            "    binary mode (appending 'b' to the mode argument) return contents as\n",
            "    bytes objects without any decoding. In text mode (the default, or when\n",
            "    't' is appended to the mode argument), the contents of the file are\n",
            "    returned as strings, the bytes having been first decoded using a\n",
            "    platform-dependent encoding or using the specified encoding if given.\n",
            "    \n",
            "    'U' mode is deprecated and will raise an exception in future versions\n",
            "    of Python.  It has no effect in Python 3.  Use newline to control\n",
            "    universal newlines mode.\n",
            "    \n",
            "    buffering is an optional integer used to set the buffering policy.\n",
            "    Pass 0 to switch buffering off (only allowed in binary mode), 1 to select\n",
            "    line buffering (only usable in text mode), and an integer > 1 to indicate\n",
            "    the size of a fixed-size chunk buffer.  When no buffering argument is\n",
            "    given, the default buffering policy works as follows:\n",
            "    \n",
            "    * Binary files are buffered in fixed-size chunks; the size of the buffer\n",
            "      is chosen using a heuristic trying to determine the underlying device's\n",
            "      \"block size\" and falling back on `io.DEFAULT_BUFFER_SIZE`.\n",
            "      On many systems, the buffer will typically be 4096 or 8192 bytes long.\n",
            "    \n",
            "    * \"Interactive\" text files (files for which isatty() returns True)\n",
            "      use line buffering.  Other text files use the policy described above\n",
            "      for binary files.\n",
            "    \n",
            "    encoding is the name of the encoding used to decode or encode the\n",
            "    file. This should only be used in text mode. The default encoding is\n",
            "    platform dependent, but any encoding supported by Python can be\n",
            "    passed.  See the codecs module for the list of supported encodings.\n",
            "    \n",
            "    errors is an optional string that specifies how encoding errors are to\n",
            "    be handled---this argument should not be used in binary mode. Pass\n",
            "    'strict' to raise a ValueError exception if there is an encoding error\n",
            "    (the default of None has the same effect), or pass 'ignore' to ignore\n",
            "    errors. (Note that ignoring encoding errors can lead to data loss.)\n",
            "    See the documentation for codecs.register or run 'help(codecs.Codec)'\n",
            "    for a list of the permitted encoding error strings.\n",
            "    \n",
            "    newline controls how universal newlines works (it only applies to text\n",
            "    mode). It can be None, '', '\\n', '\\r', and '\\r\\n'.  It works as\n",
            "    follows:\n",
            "    \n",
            "    * On input, if newline is None, universal newlines mode is\n",
            "      enabled. Lines in the input can end in '\\n', '\\r', or '\\r\\n', and\n",
            "      these are translated into '\\n' before being returned to the\n",
            "      caller. If it is '', universal newline mode is enabled, but line\n",
            "      endings are returned to the caller untranslated. If it has any of\n",
            "      the other legal values, input lines are only terminated by the given\n",
            "      string, and the line ending is returned to the caller untranslated.\n",
            "    \n",
            "    * On output, if newline is None, any '\\n' characters written are\n",
            "      translated to the system default line separator, os.linesep. If\n",
            "      newline is '' or '\\n', no translation takes place. If newline is any\n",
            "      of the other legal values, any '\\n' characters written are translated\n",
            "      to the given string.\n",
            "    \n",
            "    If closefd is False, the underlying file descriptor will be kept open\n",
            "    when the file is closed. This does not work when a file name is given\n",
            "    and must be True in that case.\n",
            "    \n",
            "    A custom opener can be used by passing a callable as *opener*. The\n",
            "    underlying file descriptor for the file object is then obtained by\n",
            "    calling *opener* with (*file*, *flags*). *opener* must return an open\n",
            "    file descriptor (passing os.open as *opener* results in functionality\n",
            "    similar to passing None).\n",
            "    \n",
            "    open() returns a file object whose type depends on the mode, and\n",
            "    through which the standard file operations such as reading and writing\n",
            "    are performed. When open() is used to open a file in a text mode ('w',\n",
            "    'r', 'wt', 'rt', etc.), it returns a TextIOWrapper. When used to open\n",
            "    a file in a binary mode, the returned class varies: in read binary\n",
            "    mode, it returns a BufferedReader; in write binary and append binary\n",
            "    modes, it returns a BufferedWriter, and in read/write mode, it returns\n",
            "    a BufferedRandom.\n",
            "    \n",
            "    It is also possible to use a string or bytearray as a file for both\n",
            "    reading and writing. For strings StringIO can be used like a file\n",
            "    opened in a text mode, and for bytes a BytesIO can be used like a file\n",
            "    opened in a binary mode.\n",
            "\n"
          ]
        }
      ],
      "source": [
        "help(open)"
      ]
    },
    {
      "cell_type": "markdown",
      "metadata": {
        "id": "6gCseDToe9zn"
      },
      "source": [
        "## write text data to a file\n",
        "3-step process\n",
        "\n",
        "1. open file with a name in write 'w' or 'a' mode\n",
        "- write data\n",
        "- close file"
      ]
    },
    {
      "cell_type": "code",
      "execution_count": null,
      "metadata": {
        "colab": {
          "base_uri": "https://localhost:8080/"
        },
        "id": "xBk-cGUbe9zn",
        "outputId": "747d9f96-0952-44cf-fc01-24ade1762f4e"
      },
      "outputs": [
        {
          "output_type": "stream",
          "name": "stdout",
          "text": [
            "6\n"
          ]
        }
      ],
      "source": [
        "# old school - not preferred!!\n",
        "fw = open('test1.txt', 'w') # w is for write mode\n",
        "fw.write('words\\n=====\\n')\n",
        "fw.write('apple\\nball\\ncat\\ndog\\n')\n",
        "print(fw.write('zebra\\n'))\n",
        "fw.close() #must close the file to actually write data\n",
        "# to the secondoary storage"
      ]
    },
    {
      "cell_type": "code",
      "execution_count": null,
      "metadata": {
        "id": "16X7hIyMe9zo",
        "outputId": "229bc501-ff5d-4b2f-8204-f9475122125e",
        "colab": {
          "base_uri": "https://localhost:8080/"
        }
      },
      "outputs": [
        {
          "output_type": "stream",
          "name": "stdout",
          "text": [
            "Help on TextIOWrapper object:\n",
            "\n",
            "class TextIOWrapper(_TextIOBase)\n",
            " |  TextIOWrapper(buffer, encoding=None, errors=None, newline=None, line_buffering=False, write_through=False)\n",
            " |  \n",
            " |  Character and line based layer over a BufferedIOBase object, buffer.\n",
            " |  \n",
            " |  encoding gives the name of the encoding that the stream will be\n",
            " |  decoded or encoded with. It defaults to locale.getpreferredencoding(False).\n",
            " |  \n",
            " |  errors determines the strictness of encoding and decoding (see\n",
            " |  help(codecs.Codec) or the documentation for codecs.register) and\n",
            " |  defaults to \"strict\".\n",
            " |  \n",
            " |  newline controls how line endings are handled. It can be None, '',\n",
            " |  '\\n', '\\r', and '\\r\\n'.  It works as follows:\n",
            " |  \n",
            " |  * On input, if newline is None, universal newlines mode is\n",
            " |    enabled. Lines in the input can end in '\\n', '\\r', or '\\r\\n', and\n",
            " |    these are translated into '\\n' before being returned to the\n",
            " |    caller. If it is '', universal newline mode is enabled, but line\n",
            " |    endings are returned to the caller untranslated. If it has any of\n",
            " |    the other legal values, input lines are only terminated by the given\n",
            " |    string, and the line ending is returned to the caller untranslated.\n",
            " |  \n",
            " |  * On output, if newline is None, any '\\n' characters written are\n",
            " |    translated to the system default line separator, os.linesep. If\n",
            " |    newline is '' or '\\n', no translation takes place. If newline is any\n",
            " |    of the other legal values, any '\\n' characters written are translated\n",
            " |    to the given string.\n",
            " |  \n",
            " |  If line_buffering is True, a call to flush is implied when a call to\n",
            " |  write contains a newline character.\n",
            " |  \n",
            " |  Method resolution order:\n",
            " |      TextIOWrapper\n",
            " |      _TextIOBase\n",
            " |      _IOBase\n",
            " |      builtins.object\n",
            " |  \n",
            " |  Methods defined here:\n",
            " |  \n",
            " |  __init__(self, /, *args, **kwargs)\n",
            " |      Initialize self.  See help(type(self)) for accurate signature.\n",
            " |  \n",
            " |  __next__(self, /)\n",
            " |      Implement next(self).\n",
            " |  \n",
            " |  __repr__(self, /)\n",
            " |      Return repr(self).\n",
            " |  \n",
            " |  close(self, /)\n",
            " |      Flush and close the IO object.\n",
            " |      \n",
            " |      This method has no effect if the file is already closed.\n",
            " |  \n",
            " |  detach(self, /)\n",
            " |      Separate the underlying buffer from the TextIOBase and return it.\n",
            " |      \n",
            " |      After the underlying buffer has been detached, the TextIO is in an\n",
            " |      unusable state.\n",
            " |  \n",
            " |  fileno(self, /)\n",
            " |      Returns underlying file descriptor if one exists.\n",
            " |      \n",
            " |      OSError is raised if the IO object does not use a file descriptor.\n",
            " |  \n",
            " |  flush(self, /)\n",
            " |      Flush write buffers, if applicable.\n",
            " |      \n",
            " |      This is not implemented for read-only and non-blocking streams.\n",
            " |  \n",
            " |  isatty(self, /)\n",
            " |      Return whether this is an 'interactive' stream.\n",
            " |      \n",
            " |      Return False if it can't be determined.\n",
            " |  \n",
            " |  read(self, size=-1, /)\n",
            " |      Read at most n characters from stream.\n",
            " |      \n",
            " |      Read from underlying buffer until we have n characters or we hit EOF.\n",
            " |      If n is negative or omitted, read until EOF.\n",
            " |  \n",
            " |  readable(self, /)\n",
            " |      Return whether object was opened for reading.\n",
            " |      \n",
            " |      If False, read() will raise OSError.\n",
            " |  \n",
            " |  readline(self, size=-1, /)\n",
            " |      Read until newline or EOF.\n",
            " |      \n",
            " |      Returns an empty string if EOF is hit immediately.\n",
            " |  \n",
            " |  reconfigure(self, /, *, encoding=None, errors=None, newline=None, line_buffering=None, write_through=None)\n",
            " |      Reconfigure the text stream with new parameters.\n",
            " |      \n",
            " |      This also does an implicit stream flush.\n",
            " |  \n",
            " |  seek(self, cookie, whence=0, /)\n",
            " |      Change stream position.\n",
            " |      \n",
            " |      Change the stream position to the given byte offset. The offset is\n",
            " |      interpreted relative to the position indicated by whence.  Values\n",
            " |      for whence are:\n",
            " |      \n",
            " |      * 0 -- start of stream (the default); offset should be zero or positive\n",
            " |      * 1 -- current stream position; offset may be negative\n",
            " |      * 2 -- end of stream; offset is usually negative\n",
            " |      \n",
            " |      Return the new absolute position.\n",
            " |  \n",
            " |  seekable(self, /)\n",
            " |      Return whether object supports random access.\n",
            " |      \n",
            " |      If False, seek(), tell() and truncate() will raise OSError.\n",
            " |      This method may need to do a test seek().\n",
            " |  \n",
            " |  tell(self, /)\n",
            " |      Return current stream position.\n",
            " |  \n",
            " |  truncate(self, pos=None, /)\n",
            " |      Truncate file to size bytes.\n",
            " |      \n",
            " |      File pointer is left unchanged.  Size defaults to the current IO\n",
            " |      position as reported by tell().  Returns the new size.\n",
            " |  \n",
            " |  writable(self, /)\n",
            " |      Return whether object was opened for writing.\n",
            " |      \n",
            " |      If False, write() will raise OSError.\n",
            " |  \n",
            " |  write(self, text, /)\n",
            " |      Write string to stream.\n",
            " |      Returns the number of characters written (which is always equal to\n",
            " |      the length of the string).\n",
            " |  \n",
            " |  ----------------------------------------------------------------------\n",
            " |  Static methods defined here:\n",
            " |  \n",
            " |  __new__(*args, **kwargs) from builtins.type\n",
            " |      Create and return a new object.  See help(type) for accurate signature.\n",
            " |  \n",
            " |  ----------------------------------------------------------------------\n",
            " |  Data descriptors defined here:\n",
            " |  \n",
            " |  buffer\n",
            " |  \n",
            " |  closed\n",
            " |  \n",
            " |  encoding\n",
            " |      Encoding of the text stream.\n",
            " |      \n",
            " |      Subclasses should override.\n",
            " |  \n",
            " |  errors\n",
            " |      The error setting of the decoder or encoder.\n",
            " |      \n",
            " |      Subclasses should override.\n",
            " |  \n",
            " |  line_buffering\n",
            " |  \n",
            " |  name\n",
            " |  \n",
            " |  newlines\n",
            " |      Line endings translated so far.\n",
            " |      \n",
            " |      Only line endings translated during reading are considered.\n",
            " |      \n",
            " |      Subclasses should override.\n",
            " |  \n",
            " |  write_through\n",
            " |  \n",
            " |  ----------------------------------------------------------------------\n",
            " |  Methods inherited from _IOBase:\n",
            " |  \n",
            " |  __del__(...)\n",
            " |  \n",
            " |  __enter__(...)\n",
            " |  \n",
            " |  __exit__(...)\n",
            " |  \n",
            " |  __iter__(self, /)\n",
            " |      Implement iter(self).\n",
            " |  \n",
            " |  readlines(self, hint=-1, /)\n",
            " |      Return a list of lines from the stream.\n",
            " |      \n",
            " |      hint can be specified to control the number of lines read: no more\n",
            " |      lines will be read if the total size (in bytes/characters) of all\n",
            " |      lines so far exceeds hint.\n",
            " |  \n",
            " |  writelines(self, lines, /)\n",
            " |      Write a list of lines to stream.\n",
            " |      \n",
            " |      Line separators are not added, so it is usual for each of the\n",
            " |      lines provided to have a line separator at the end.\n",
            " |  \n",
            " |  ----------------------------------------------------------------------\n",
            " |  Data descriptors inherited from _IOBase:\n",
            " |  \n",
            " |  __dict__\n",
            "\n"
          ]
        }
      ],
      "source": [
        "help(fw)"
      ]
    },
    {
      "cell_type": "code",
      "execution_count": null,
      "metadata": {
        "colab": {
          "base_uri": "https://localhost:8080/",
          "height": 200
        },
        "id": "ld2_LdtYe9zo",
        "outputId": "8fe87e26-9a5f-4568-b207-c633f8c9ccd4"
      },
      "outputs": [
        {
          "output_type": "error",
          "ename": "ValueError",
          "evalue": "ignored",
          "traceback": [
            "\u001b[0;31m---------------------------------------------------------------------------\u001b[0m",
            "\u001b[0;31mValueError\u001b[0m                                Traceback (most recent call last)",
            "\u001b[0;32m<ipython-input-5-788da8873377>\u001b[0m in \u001b[0;36m<cell line: 13>\u001b[0;34m()\u001b[0m\n\u001b[1;32m     11\u001b[0m \u001b[0;34m\u001b[0m\u001b[0m\n\u001b[1;32m     12\u001b[0m \u001b[0;31m# archivo se cerrará automáticamente cuando with block termine de ejecutarse\u001b[0m\u001b[0;34m\u001b[0m\u001b[0;34m\u001b[0m\u001b[0m\n\u001b[0;32m---> 13\u001b[0;31m \u001b[0mfout\u001b[0m\u001b[0;34m.\u001b[0m\u001b[0mwrite\u001b[0m\u001b[0;34m(\u001b[0m\u001b[0;34m'test\\n'\u001b[0m\u001b[0;34m)\u001b[0m \u001b[0;31m# esto no se escribirá ya que el archivo está cerrado; y arroja error de E/S\u001b[0m\u001b[0;34m\u001b[0m\u001b[0;34m\u001b[0m\u001b[0m\n\u001b[0m",
            "\u001b[0;31mValueError\u001b[0m: I/O operation on closed file."
          ]
        }
      ],
      "source": [
        "#  Sintaxis más nueva y mejor: ¡la forma preferida!\n",
        "alist = [1, 2, 3]\n",
        "with open('words.txt', 'w') as fout:\n",
        "    fout.write('apple\\nball\\ncat\\ndog\\n')\n",
        "    fout.write('elephant\\n')\n",
        "    fout.write('zebra\\n')\n",
        "    fout.write(str(1))\n",
        "    fout.write('\\n')\n",
        "    fout.write(str(alist))\n",
        "\n",
        "\n",
        "# archivo se cerrará automáticamente cuando with block termine de ejecutarse\n",
        "fout.write('test\\n') # esto no se escribirá ya que el archivo está cerrado; y arroja error de E/S"
      ]
    },
    {
      "cell_type": "markdown",
      "metadata": {
        "id": "C6YsKztYe9zo"
      },
      "source": [
        "\n",
        "## leer datos de texto de un archivo\n",
        "1. archivo abierto con su nombre; puede proporcionar una ruta relativa o absoluta\n",
        "- leer de varias maneras; una línea a la vez, todas las líneas, bytes, archivo completo, etc.\n",
        "- usar datos\n",
        "- cerrar el archivo\n",
        "\n",
        "### varias formas de leer datos\n",
        "1. leer (tamaño = -1): lee como máximo los caracteres de tamaño de la secuencia o el marcador EOF (fin de archivo)\n",
        "2. readline() : leer hasta nueva línea o marcador EOF\n",
        "3. readlines() : lee y devuelve una lista de líneas del archivo de entrada"
      ]
    },
    {
      "cell_type": "code",
      "execution_count": null,
      "metadata": {
        "id": "jzm3IpFUe9zo"
      },
      "outputs": [],
      "source": [
        "# leer todo el archivo como una lista de líneas\n",
        "fr = open('words.txt', 'r') # 'r' o modo lectura por defecto; el archivo debe existir\n",
        "data = fr.readlines()\n",
        "fr.close()"
      ]
    },
    {
      "cell_type": "code",
      "source": [
        "data[0]"
      ],
      "metadata": {
        "colab": {
          "base_uri": "https://localhost:8080/",
          "height": 36
        },
        "id": "UiVV9eXZgDnb",
        "outputId": "31f1fd8c-7ca2-4174-ee50-9feea4f3f700"
      },
      "execution_count": null,
      "outputs": [
        {
          "output_type": "execute_result",
          "data": {
            "text/plain": [
              "'apple\\n'"
            ],
            "application/vnd.google.colaboratory.intrinsic+json": {
              "type": "string"
            }
          },
          "metadata": {},
          "execution_count": 7
        }
      ]
    },
    {
      "cell_type": "code",
      "execution_count": null,
      "metadata": {
        "id": "LXSABve4e9zo",
        "outputId": "c9ef8e35-c5ea-495a-98a3-cfe9a25b31f6",
        "colab": {
          "base_uri": "https://localhost:8080/",
          "height": 36
        }
      },
      "outputs": [
        {
          "output_type": "execute_result",
          "data": {
            "text/plain": [
              "'apple'"
            ],
            "application/vnd.google.colaboratory.intrinsic+json": {
              "type": "string"
            }
          },
          "metadata": {},
          "execution_count": 8
        }
      ],
      "source": [
        "data[0].strip()"
      ]
    },
    {
      "cell_type": "code",
      "execution_count": null,
      "metadata": {
        "id": "a7yiQ70ge9zp"
      },
      "outputs": [],
      "source": [
        "with open('words.txt', 'r') as fr:\n",
        "    data= fr.readlines()"
      ]
    },
    {
      "cell_type": "code",
      "execution_count": null,
      "metadata": {
        "id": "uWIiIfmAe9zp"
      },
      "outputs": [],
      "source": [
        "#help(fr)"
      ]
    },
    {
      "cell_type": "code",
      "execution_count": null,
      "metadata": {
        "id": "o-N146JBe9zp",
        "outputId": "ee0cee77-5dc5-40d2-a248-3ad60f17b180",
        "colab": {
          "base_uri": "https://localhost:8080/"
        }
      },
      "outputs": [
        {
          "output_type": "execute_result",
          "data": {
            "text/plain": [
              "['apple\\n',\n",
              " 'ball\\n',\n",
              " 'cat\\n',\n",
              " 'dog\\n',\n",
              " 'elephant\\n',\n",
              " 'zebra\\n',\n",
              " '1\\n',\n",
              " '[1, 2, 3]']"
            ]
          },
          "metadata": {},
          "execution_count": 11
        }
      ],
      "source": [
        "data"
      ]
    },
    {
      "cell_type": "code",
      "execution_count": null,
      "metadata": {
        "id": "BRicRm61e9zp",
        "outputId": "52a811fc-b330-4216-9226-818d5be5af80",
        "colab": {
          "base_uri": "https://localhost:8080/"
        }
      },
      "outputs": [
        {
          "output_type": "stream",
          "name": "stdout",
          "text": [
            "apple\n",
            "ball\n",
            "cat\n",
            "dog\n",
            "elephant\n",
            "zebra\n",
            "1\n",
            "[1, 2, 3]\n"
          ]
        }
      ],
      "source": [
        "for el in data:\n",
        "    print(el.strip())"
      ]
    },
    {
      "cell_type": "code",
      "execution_count": null,
      "metadata": {
        "id": "rWhjBOhTe9zq"
      },
      "outputs": [],
      "source": [
        "data.sort()\n"
      ]
    },
    {
      "cell_type": "code",
      "execution_count": null,
      "metadata": {
        "id": "vqBvzxLte9zq",
        "outputId": "5f280ba4-e3ad-435f-843d-7520386055f8",
        "colab": {
          "base_uri": "https://localhost:8080/"
        }
      },
      "outputs": [
        {
          "output_type": "execute_result",
          "data": {
            "text/plain": [
              "['1\\n',\n",
              " '[1, 2, 3]',\n",
              " 'apple\\n',\n",
              " 'ball\\n',\n",
              " 'cat\\n',\n",
              " 'dog\\n',\n",
              " 'elephant\\n',\n",
              " 'zebra\\n']"
            ]
          },
          "metadata": {},
          "execution_count": 14
        }
      ],
      "source": [
        "data"
      ]
    },
    {
      "cell_type": "code",
      "execution_count": null,
      "metadata": {
        "id": "7CY4rAvxe9zq"
      },
      "outputs": [],
      "source": [
        "with open('words1.txt', 'w') as newFile:\n",
        "    for word in data:\n",
        "        newFile.write(word)"
      ]
    },
    {
      "cell_type": "markdown",
      "metadata": {
        "id": "4tKb3T35e9zq"
      },
      "source": [
        "## leer datos línea por línea\n",
        "- vamos a crear un archivo con unos 10 enteros uno por línea\n",
        "- luego, lea el número entero línea por línea en una lista de números enteros"
      ]
    },
    {
      "cell_type": "code",
      "execution_count": null,
      "metadata": {
        "id": "0npsB9pDe9zq"
      },
      "outputs": [],
      "source": [
        "# create a file with 10 integers\n",
        "# one integer per line\n",
        "import random\n",
        "with open('integers.txt', 'a') as fout:\n",
        "    for i in range(10):\n",
        "        num = random.randint(1, 1000)\n",
        "        fout.write(str(num) + '\\n')"
      ]
    },
    {
      "cell_type": "code",
      "execution_count": null,
      "metadata": {
        "colab": {
          "base_uri": "https://localhost:8080/"
        },
        "id": "SvEEbx_6e9zq",
        "outputId": "f8e564c8-41bb-467c-f928-91ca58caaae9"
      },
      "outputs": [
        {
          "output_type": "stream",
          "name": "stdout",
          "text": [
            "num =  991 <class 'str'>\n",
            "num =  419 <class 'str'>\n",
            "num =  381 <class 'str'>\n",
            "num =  278 <class 'str'>\n",
            "num =  54 <class 'str'>\n",
            "num =  142 <class 'str'>\n",
            "num =  455 <class 'str'>\n",
            "num =  937 <class 'str'>\n",
            "num =  706 <class 'str'>\n",
            "num =  617 <class 'str'>\n"
          ]
        }
      ],
      "source": [
        "# read the integer line by line into a list\n",
        "intList = []\n",
        "with open('integers.txt', 'r') as fin:\n",
        "    while True:\n",
        "        num = fin.readline()\n",
        "        num = num.strip() # strip \\n\n",
        "        if not num:\n",
        "            break\n",
        "        print('num = ', num, type(num))\n",
        "        intList.append(int(num))"
      ]
    },
    {
      "cell_type": "code",
      "execution_count": null,
      "metadata": {
        "id": "uXFMX7hve9zr",
        "outputId": "4bbc9e2f-9ff5-4c60-a559-0643aa9e07f4",
        "colab": {
          "base_uri": "https://localhost:8080/"
        }
      },
      "outputs": [
        {
          "output_type": "stream",
          "name": "stdout",
          "text": [
            "[991, 419, 381, 278, 54, 142, 455, 937, 706, 617]\n"
          ]
        }
      ],
      "source": [
        "print(intList)"
      ]
    },
    {
      "cell_type": "markdown",
      "metadata": {
        "id": "LZ1ks4rAe9zr"
      },
      "source": [
        "\n",
        "## leyendo todo el archivo a la vez\n",
        "- leer el archivo /usr/share/dict/words en linux/mac\n",
        "- la ruta de Windows podría ser \"C:/temp/words.txt\" o c:\\\\temp\\\\words.txt\"\n",
        "- si el archivo no existe, use el archivo words.txt provisto o cree un archivo de texto con un montón de palabras usando un editor"
      ]
    },
    {
      "cell_type": "code",
      "execution_count": null,
      "metadata": {
        "id": "-jJpfEGTe9zr",
        "outputId": "9f537ef7-dd89-48c2-e558-03a5bd413ff7",
        "colab": {
          "base_uri": "https://localhost:8080/"
        }
      },
      "outputs": [
        {
          "output_type": "stream",
          "name": "stdout",
          "text": [
            "tail: cannot open '/usr/share/dict/words' for reading: No such file or directory\n"
          ]
        }
      ],
      "source": [
        "# ver las primeras 10 líneas usando el programa principal\n",
        "! tail /usr/share/dict/words"
      ]
    },
    {
      "cell_type": "code",
      "source": [
        "# Mostrar las últimas 10 líneas de un archivo\n",
        "!tail -n 10 words.txt"
      ],
      "metadata": {
        "colab": {
          "base_uri": "https://localhost:8080/"
        },
        "id": "SifXQ9XnvOdH",
        "outputId": "23d261fe-9c8a-4d6f-db37-173d70609c91"
      },
      "execution_count": null,
      "outputs": [
        {
          "output_type": "stream",
          "name": "stdout",
          "text": [
            "apple\n",
            "ball\n",
            "cat\n",
            "dog\n",
            "elephant\n",
            "zebra\n",
            "1\n",
            "[1, 2, 3]"
          ]
        }
      ]
    },
    {
      "cell_type": "code",
      "execution_count": null,
      "metadata": {
        "id": "1lK921vge9zr",
        "outputId": "bbf65c28-fc36-4c12-f958-475842478674",
        "colab": {
          "base_uri": "https://localhost:8080/"
        }
      },
      "outputs": [
        {
          "output_type": "stream",
          "name": "stdout",
          "text": [
            "apple\n",
            "ball\n",
            "cat\n",
            "dog\n",
            "elephant\n",
            "zebra\n",
            "1\n",
            "[1, 2, 3]"
          ]
        }
      ],
      "source": [
        "! head words.txt"
      ]
    },
    {
      "cell_type": "code",
      "execution_count": null,
      "metadata": {
        "id": "WwUMh5pQe9zs"
      },
      "outputs": [],
      "source": [
        "file = 'words.txt' # works on mac/linux\n",
        "with open(file) as f:\n",
        "    data = f.read()\n"
      ]
    },
    {
      "cell_type": "code",
      "execution_count": null,
      "metadata": {
        "id": "MIagDZuge9zs",
        "outputId": "2d5d026b-b88d-4ed3-e829-105e22088a9f",
        "colab": {
          "base_uri": "https://localhost:8080/",
          "height": 36
        }
      },
      "outputs": [
        {
          "output_type": "execute_result",
          "data": {
            "text/plain": [
              "'apple\\nball\\ncat\\ndog\\nelephant\\nzebra\\n1\\n[1, 2, 3]'"
            ],
            "application/vnd.google.colaboratory.intrinsic+json": {
              "type": "string"
            }
          },
          "metadata": {},
          "execution_count": 29
        }
      ],
      "source": [
        "data"
      ]
    },
    {
      "cell_type": "code",
      "execution_count": null,
      "metadata": {
        "id": "dWSCMmc5e9zs",
        "outputId": "fc0c7e32-2142-4087-c383-0bc139bab4a9",
        "colab": {
          "base_uri": "https://localhost:8080/"
        }
      },
      "outputs": [
        {
          "output_type": "stream",
          "name": "stdout",
          "text": [
            "Hay 8 palabras en el archivo.\n"
          ]
        }
      ],
      "source": [
        "words = data.split('\\n')\n",
        "print('Hay {0} palabras en el archivo.'.format(len(words)))"
      ]
    },
    {
      "cell_type": "code",
      "execution_count": null,
      "metadata": {
        "id": "x7mtHBqRe9zs",
        "outputId": "76aa322b-e48a-4c30-ef73-e8f391d2a07c",
        "colab": {
          "base_uri": "https://localhost:8080/"
        }
      },
      "outputs": [
        {
          "output_type": "execute_result",
          "data": {
            "text/plain": [
              "-1"
            ]
          },
          "metadata": {},
          "execution_count": 35
        }
      ],
      "source": [
        "data.find('needle')"
      ]
    },
    {
      "cell_type": "code",
      "execution_count": null,
      "metadata": {
        "id": "43bqZSPne9zs",
        "outputId": "ee7116d1-c109-4605-8fd7-627e45b7586e",
        "colab": {
          "base_uri": "https://localhost:8080/",
          "height": 36
        }
      },
      "outputs": [
        {
          "output_type": "execute_result",
          "data": {
            "text/plain": [
              "''"
            ],
            "application/vnd.google.colaboratory.intrinsic+json": {
              "type": "string"
            }
          },
          "metadata": {},
          "execution_count": 36
        }
      ],
      "source": [
        "data[831052:831052+6]"
      ]
    },
    {
      "cell_type": "code",
      "execution_count": null,
      "metadata": {
        "id": "Hpj2gRA1e9zs",
        "outputId": "1b42f9a0-eb4a-4735-80d5-e14629013348",
        "colab": {
          "base_uri": "https://localhost:8080/"
        }
      },
      "outputs": [
        {
          "output_type": "stream",
          "name": "stdout",
          "text": [
            "['apple', 'ball', 'cat', 'dog', 'elephant', 'zebra', '1', '[1, 2, 3]']\n"
          ]
        }
      ],
      "source": [
        "# imprimamos las primeras 10 palabras\n",
        "print(words[:10])"
      ]
    },
    {
      "cell_type": "code",
      "execution_count": null,
      "metadata": {
        "id": "lJlR1LjDe9zs"
      },
      "outputs": [],
      "source": [
        "#help(list)"
      ]
    },
    {
      "cell_type": "code",
      "execution_count": null,
      "metadata": {
        "id": "S5VMXjY_e9zt",
        "outputId": "4bf32761-9f04-4ec1-bb85-9b29b6992a4f",
        "colab": {
          "base_uri": "https://localhost:8080/"
        }
      },
      "outputs": [
        {
          "output_type": "execute_result",
          "data": {
            "text/plain": [
              "2"
            ]
          },
          "metadata": {},
          "execution_count": 41
        }
      ],
      "source": [
        "words.index('cat')"
      ]
    },
    {
      "cell_type": "markdown",
      "metadata": {
        "id": "8vTqMvi5e9zt"
      },
      "source": [
        "## Leyendo todo el archivo como una lista de líneas"
      ]
    },
    {
      "cell_type": "code",
      "execution_count": null,
      "metadata": {
        "id": "AC0yJPZYe9zt",
        "outputId": "2bb7d850-e299-4559-af98-f5ad97834f91",
        "colab": {
          "base_uri": "https://localhost:8080/"
        }
      },
      "outputs": [
        {
          "output_type": "stream",
          "name": "stdout",
          "text": [
            "There are 8 words in the file.\n"
          ]
        }
      ],
      "source": [
        "#file = '/usr/share/dict/words'\n",
        "file = 'words.txt'\n",
        "with open(file) as f:\n",
        "    lines = f.readlines()\n",
        "\n",
        "print('There are {0} words in the file.'.format(len(data)))"
      ]
    },
    {
      "cell_type": "code",
      "execution_count": null,
      "metadata": {
        "id": "tNXLkQo6e9zt",
        "outputId": "2ae3a7fe-8936-42ba-ecd4-4b41fdae0bbb",
        "colab": {
          "base_uri": "https://localhost:8080/"
        }
      },
      "outputs": [
        {
          "output_type": "execute_result",
          "data": {
            "text/plain": [
              "['apple\\n', 'ball\\n']"
            ]
          },
          "metadata": {},
          "execution_count": 51
        }
      ],
      "source": [
        "lines[:2]"
      ]
    },
    {
      "cell_type": "code",
      "execution_count": null,
      "metadata": {
        "id": "A2zWpynUe9zt",
        "outputId": "0f6832ea-bbe0-4541-fefb-6d1ab8cbd255",
        "colab": {
          "base_uri": "https://localhost:8080/"
        }
      },
      "outputs": [
        {
          "output_type": "stream",
          "name": "stdout",
          "text": [
            "apple\n",
            "ball\n",
            "cat\n",
            "dog\n",
            "elephant\n",
            "zebra\n",
            "1\n",
            "[1, 2, 3]\n"
          ]
        }
      ],
      "source": [
        "for word in lines[:10]:\n",
        "    print(word.strip())"
      ]
    },
    {
      "cell_type": "code",
      "execution_count": null,
      "metadata": {
        "id": "wxbr1md1e9zt",
        "outputId": "ecf35482-87c6-4581-fefa-db00f8c0aaf3",
        "colab": {
          "base_uri": "https://localhost:8080/"
        }
      },
      "outputs": [
        {
          "output_type": "stream",
          "name": "stdout",
          "text": [
            "1\n",
            "[1, 2, 3]\n"
          ]
        }
      ],
      "source": [
        "for word in lines[len(lines)-10:]:\n",
        "    print(word.strip())"
      ]
    },
    {
      "cell_type": "markdown",
      "metadata": {
        "id": "PgLqnVSUe9zu"
      },
      "source": [
        "## select a random word from list of words\n",
        "- import random\n",
        "- random.choice(wordList)"
      ]
    },
    {
      "cell_type": "code",
      "execution_count": null,
      "metadata": {
        "id": "wE-x1wfge9zu",
        "outputId": "f06ad643-bf16-495a-901b-7bc27d057e0b",
        "colab": {
          "base_uri": "https://localhost:8080/"
        }
      },
      "outputs": [
        {
          "output_type": "stream",
          "name": "stdout",
          "text": [
            "random word = elephant\n",
            "\n"
          ]
        }
      ],
      "source": [
        "import random\n",
        "word = random.choice(lines)\n",
        "word = word.lower()\n",
        "print(f'random word = {word}')"
      ]
    },
    {
      "cell_type": "markdown",
      "metadata": {
        "id": "HkpbW11Ce9zu"
      },
      "source": [
        "# ejercicios\n",
        "1. Escriba un programa que lea un archivo y escriba un archivo nuevo con las líneas en orden inverso (es decir, la primera línea del archivo antiguo se convierte en la última del archivo nuevo).\n",
        "\n",
        "#Ejercicios opcionales\n",
        "- Escriba un programa que lea un archivo e imprima solo aquellas líneas que contengan palabras de máximo 5 caracteres.\n",
        "- Escriba un programa que lea un archivo de texto y produzca un archivo de salida que sea una copia del archivo, excepto que las primeras cinco columnas de cada línea contienen un número de línea de cuatro dígitos, seguido de un espacio. Comience a numerar la primera línea en el archivo de salida en 1. Asegúrese de que cada número de línea tenga el mismo ancho en el archivo de salida. Use uno de sus programas de Python como datos de prueba para este ejercicio: su salida debe ser una lista impresa y numerada del programa de Python.\n",
        "- Escriba un programa que deshaga la numeración del ejercicio anterior: debe leer un archivo con líneas numeradas y producir otro archivo sin números de línea."
      ]
    },
    {
      "cell_type": "code",
      "execution_count": null,
      "metadata": {
        "id": "CTAdLTzRe9zu"
      },
      "outputs": [],
      "source": []
    }
  ],
  "metadata": {
    "kernelspec": {
      "display_name": "Python 3",
      "language": "python",
      "name": "python3"
    },
    "language_info": {
      "codemirror_mode": {
        "name": "ipython",
        "version": 3
      },
      "file_extension": ".py",
      "mimetype": "text/x-python",
      "name": "python",
      "nbconvert_exporter": "python",
      "pygments_lexer": "ipython3",
      "version": "3.7.3"
    },
    "colab": {
      "provenance": [],
      "toc_visible": true,
      "include_colab_link": true
    }
  },
  "nbformat": 4,
  "nbformat_minor": 0
}