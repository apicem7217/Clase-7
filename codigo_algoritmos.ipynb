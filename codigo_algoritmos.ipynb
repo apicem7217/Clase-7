{
  "nbformat": 4,
  "nbformat_minor": 0,
  "metadata": {
    "colab": {
      "provenance": [],
      "authorship_tag": "ABX9TyPxjll4Uz0czQ3bCjOQHiJN",
      "include_colab_link": true
    },
    "kernelspec": {
      "name": "python3",
      "display_name": "Python 3"
    },
    "language_info": {
      "name": "python"
    }
  },
  "cells": [
    {
      "cell_type": "markdown",
      "metadata": {
        "id": "view-in-github",
        "colab_type": "text"
      },
      "source": [
        "<a href=\"https://colab.research.google.com/github/apicem7217/Clase-7/blob/Phyton/codigo_algoritmos.ipynb\" target=\"_parent\"><img src=\"https://colab.research.google.com/assets/colab-badge.svg\" alt=\"Open In Colab\"/></a>"
      ]
    },
    {
      "cell_type": "code",
      "source": [
        "lista=[i for i in range(1,1001)]\n",
        "num_35_lista=[]\n",
        "suma=0\n",
        "\n",
        "for i in lista:\n",
        "  if i%3==0 or i%5==0:\n",
        "    # checa si es 3 o 5 multiplos\n",
        "    suma+=i\n",
        "suma"
      ],
      "metadata": {
        "colab": {
          "base_uri": "https://localhost:8080/"
        },
        "id": "2M4Ea9V7-nmW",
        "outputId": "8486a714-4446-4456-b948-9bfef9517e54"
      },
      "execution_count": null,
      "outputs": [
        {
          "output_type": "execute_result",
          "data": {
            "text/plain": [
              "234168"
            ]
          },
          "metadata": {},
          "execution_count": 42
        }
      ]
    },
    {
      "cell_type": "code",
      "source": [
        "lista_base=[i for i in range (1,1001)]\n",
        "num_buscado=[]\n",
        "suma=0\n",
        "\n",
        "for i in lista_base:\n",
        "  if i%3==0 or i%5==0:\n",
        "    suma+=i\n",
        "suma\n"
      ],
      "metadata": {
        "colab": {
          "base_uri": "https://localhost:8080/"
        },
        "id": "UCyjJTJs_QDv",
        "outputId": "cdb35ff4-50da-40c4-b8f1-b0d52c0f437d"
      },
      "execution_count": null,
      "outputs": [
        {
          "output_type": "execute_result",
          "data": {
            "text/plain": [
              "234168"
            ]
          },
          "metadata": {},
          "execution_count": 50
        }
      ]
    },
    {
      "cell_type": "code",
      "source": [],
      "metadata": {
        "id": "HoiZmM4oUFxy"
      },
      "execution_count": null,
      "outputs": []
    },
    {
      "cell_type": "code",
      "source": [],
      "metadata": {
        "id": "9WJKAr_yUG5V"
      },
      "execution_count": null,
      "outputs": []
    },
    {
      "cell_type": "code",
      "source": [],
      "metadata": {
        "id": "jpeeAbubUHWT"
      },
      "execution_count": null,
      "outputs": []
    }
  ]
}